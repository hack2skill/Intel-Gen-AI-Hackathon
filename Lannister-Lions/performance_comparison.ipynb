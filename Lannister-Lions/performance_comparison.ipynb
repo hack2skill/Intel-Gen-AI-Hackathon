{
 "cells": [
  {
   "cell_type": "code",
   "execution_count": 12,
   "id": "71bf7460-dcc1-4f5e-88aa-cd9272f5b568",
   "metadata": {},
   "outputs": [
    {
     "name": "stdout",
     "output_type": "stream",
     "text": [
      "Requirement already satisfied: transformers in /root/oneapi-devsummit-sea-2023/itex_xpu/lib/python3.9/site-packages (4.31.0)\n",
      "Requirement already satisfied: einops in /root/oneapi-devsummit-sea-2023/itex_xpu/lib/python3.9/site-packages (0.6.1)\n",
      "Requirement already satisfied: accelerate in /root/oneapi-devsummit-sea-2023/itex_xpu/lib/python3.9/site-packages (0.21.0)\n",
      "Requirement already satisfied: langchain in /root/oneapi-devsummit-sea-2023/itex_xpu/lib/python3.9/site-packages (0.0.266)\n",
      "Requirement already satisfied: bitsandbytes in /root/oneapi-devsummit-sea-2023/itex_xpu/lib/python3.9/site-packages (0.40.2)\n",
      "Collecting sentence_transformers\n",
      "  Downloading sentence-transformers-2.2.2.tar.gz (85 kB)\n",
      "\u001b[2K     \u001b[90m━━━━━━━━━━━━━━━━━━━━━━━━━━━━━━━━━━━━━━━━\u001b[0m \u001b[32m86.0/86.0 kB\u001b[0m \u001b[31m1.4 MB/s\u001b[0m eta \u001b[36m0:00:00\u001b[0ma \u001b[36m0:00:01\u001b[0m\n",
      "\u001b[?25h  Preparing metadata (setup.py) ... \u001b[?25ldone\n",
      "\u001b[?25hRequirement already satisfied: pypdf in /root/oneapi-devsummit-sea-2023/itex_xpu/lib/python3.9/site-packages (3.17.2)\n",
      "Collecting python-dotenv\n",
      "  Downloading python_dotenv-1.0.0-py3-none-any.whl (19 kB)\n",
      "Requirement already satisfied: filelock in /root/oneapi-devsummit-sea-2023/itex_xpu/lib/python3.9/site-packages (from transformers) (3.13.1)\n",
      "Requirement already satisfied: huggingface-hub<1.0,>=0.14.1 in /root/oneapi-devsummit-sea-2023/itex_xpu/lib/python3.9/site-packages (from transformers) (0.19.4)\n",
      "Requirement already satisfied: numpy>=1.17 in /root/oneapi-devsummit-sea-2023/itex_xpu/lib/python3.9/site-packages (from transformers) (1.23.5)\n",
      "Requirement already satisfied: packaging>=20.0 in /root/oneapi-devsummit-sea-2023/itex_xpu/lib/python3.9/site-packages (from transformers) (23.2)\n",
      "Requirement already satisfied: pyyaml>=5.1 in /root/oneapi-devsummit-sea-2023/itex_xpu/lib/python3.9/site-packages (from transformers) (6.0.1)\n",
      "Requirement already satisfied: regex!=2019.12.17 in /root/oneapi-devsummit-sea-2023/itex_xpu/lib/python3.9/site-packages (from transformers) (2023.10.3)\n",
      "Requirement already satisfied: requests in /root/oneapi-devsummit-sea-2023/itex_xpu/lib/python3.9/site-packages (from transformers) (2.31.0)\n",
      "Requirement already satisfied: tokenizers!=0.11.3,<0.14,>=0.11.1 in /root/oneapi-devsummit-sea-2023/itex_xpu/lib/python3.9/site-packages (from transformers) (0.13.3)\n",
      "Requirement already satisfied: safetensors>=0.3.1 in /root/oneapi-devsummit-sea-2023/itex_xpu/lib/python3.9/site-packages (from transformers) (0.4.1)\n",
      "Requirement already satisfied: tqdm>=4.27 in /root/oneapi-devsummit-sea-2023/itex_xpu/lib/python3.9/site-packages (from transformers) (4.66.1)\n",
      "Requirement already satisfied: psutil in /root/oneapi-devsummit-sea-2023/itex_xpu/lib/python3.9/site-packages (from accelerate) (5.9.6)\n",
      "Requirement already satisfied: torch>=1.10.0 in /root/oneapi-devsummit-sea-2023/itex_xpu/lib/python3.9/site-packages (from accelerate) (2.0.1)\n",
      "Requirement already satisfied: SQLAlchemy<3,>=1.4 in /root/oneapi-devsummit-sea-2023/itex_xpu/lib/python3.9/site-packages (from langchain) (2.0.23)\n",
      "Requirement already satisfied: aiohttp<4.0.0,>=3.8.3 in /root/oneapi-devsummit-sea-2023/itex_xpu/lib/python3.9/site-packages (from langchain) (3.9.1)\n",
      "Requirement already satisfied: async-timeout<5.0.0,>=4.0.0 in /root/oneapi-devsummit-sea-2023/itex_xpu/lib/python3.9/site-packages (from langchain) (4.0.3)\n",
      "Requirement already satisfied: dataclasses-json<0.6.0,>=0.5.7 in /root/oneapi-devsummit-sea-2023/itex_xpu/lib/python3.9/site-packages (from langchain) (0.5.14)\n",
      "Requirement already satisfied: langsmith<0.1.0,>=0.0.21 in /root/oneapi-devsummit-sea-2023/itex_xpu/lib/python3.9/site-packages (from langchain) (0.0.70)\n",
      "Requirement already satisfied: numexpr<3.0.0,>=2.8.4 in /root/oneapi-devsummit-sea-2023/itex_xpu/lib/python3.9/site-packages (from langchain) (2.8.8)\n",
      "Requirement already satisfied: openapi-schema-pydantic<2.0,>=1.2 in /root/oneapi-devsummit-sea-2023/itex_xpu/lib/python3.9/site-packages (from langchain) (1.2.4)\n",
      "Requirement already satisfied: pydantic<2,>=1 in /root/oneapi-devsummit-sea-2023/itex_xpu/lib/python3.9/site-packages (from langchain) (1.10.13)\n",
      "Requirement already satisfied: tenacity<9.0.0,>=8.1.0 in /root/oneapi-devsummit-sea-2023/itex_xpu/lib/python3.9/site-packages (from langchain) (8.2.3)\n",
      "Collecting torchvision (from sentence_transformers)\n",
      "  Downloading torchvision-0.16.2-cp39-cp39-manylinux1_x86_64.whl.metadata (6.6 kB)\n",
      "Collecting scikit-learn (from sentence_transformers)\n",
      "  Downloading scikit_learn-1.3.2-cp39-cp39-manylinux_2_17_x86_64.manylinux2014_x86_64.whl.metadata (11 kB)\n",
      "Requirement already satisfied: scipy in /root/oneapi-devsummit-sea-2023/itex_xpu/lib/python3.9/site-packages (from sentence_transformers) (1.10.1)\n",
      "Collecting nltk (from sentence_transformers)\n",
      "  Downloading nltk-3.8.1-py3-none-any.whl (1.5 MB)\n",
      "\u001b[2K     \u001b[90m━━━━━━━━━━━━━━━━━━━━━━━━━━━━━━━━━━━━━━━━\u001b[0m \u001b[32m1.5/1.5 MB\u001b[0m \u001b[31m11.6 MB/s\u001b[0m eta \u001b[36m0:00:00\u001b[0m00:01\u001b[0m00:01\u001b[0m\n",
      "\u001b[?25hCollecting sentencepiece (from sentence_transformers)\n",
      "  Downloading sentencepiece-0.1.99-cp39-cp39-manylinux_2_17_x86_64.manylinux2014_x86_64.whl (1.3 MB)\n",
      "\u001b[2K     \u001b[90m━━━━━━━━━━━━━━━━━━━━━━━━━━━━━━━━━━━━━━━━\u001b[0m \u001b[32m1.3/1.3 MB\u001b[0m \u001b[31m14.8 MB/s\u001b[0m eta \u001b[36m0:00:00\u001b[0m00:01\u001b[0m\n",
      "\u001b[?25hRequirement already satisfied: typing_extensions>=3.7.4.3 in /root/oneapi-devsummit-sea-2023/itex_xpu/lib/python3.9/site-packages (from pypdf) (4.5.0)\n",
      "Requirement already satisfied: attrs>=17.3.0 in /root/oneapi-devsummit-sea-2023/itex_xpu/lib/python3.9/site-packages (from aiohttp<4.0.0,>=3.8.3->langchain) (23.1.0)\n",
      "Requirement already satisfied: multidict<7.0,>=4.5 in /root/oneapi-devsummit-sea-2023/itex_xpu/lib/python3.9/site-packages (from aiohttp<4.0.0,>=3.8.3->langchain) (6.0.4)\n",
      "Requirement already satisfied: yarl<2.0,>=1.0 in /root/oneapi-devsummit-sea-2023/itex_xpu/lib/python3.9/site-packages (from aiohttp<4.0.0,>=3.8.3->langchain) (1.9.4)\n",
      "Requirement already satisfied: frozenlist>=1.1.1 in /root/oneapi-devsummit-sea-2023/itex_xpu/lib/python3.9/site-packages (from aiohttp<4.0.0,>=3.8.3->langchain) (1.4.0)\n",
      "Requirement already satisfied: aiosignal>=1.1.2 in /root/oneapi-devsummit-sea-2023/itex_xpu/lib/python3.9/site-packages (from aiohttp<4.0.0,>=3.8.3->langchain) (1.3.1)\n",
      "Requirement already satisfied: marshmallow<4.0.0,>=3.18.0 in /root/oneapi-devsummit-sea-2023/itex_xpu/lib/python3.9/site-packages (from dataclasses-json<0.6.0,>=0.5.7->langchain) (3.20.1)\n",
      "Requirement already satisfied: typing-inspect<1,>=0.4.0 in /root/oneapi-devsummit-sea-2023/itex_xpu/lib/python3.9/site-packages (from dataclasses-json<0.6.0,>=0.5.7->langchain) (0.9.0)\n",
      "Requirement already satisfied: fsspec>=2023.5.0 in /root/oneapi-devsummit-sea-2023/itex_xpu/lib/python3.9/site-packages (from huggingface-hub<1.0,>=0.14.1->transformers) (2023.10.0)\n",
      "Requirement already satisfied: charset-normalizer<4,>=2 in /root/oneapi-devsummit-sea-2023/itex_xpu/lib/python3.9/site-packages (from requests->transformers) (3.3.2)\n",
      "Requirement already satisfied: idna<4,>=2.5 in /root/oneapi-devsummit-sea-2023/itex_xpu/lib/python3.9/site-packages (from requests->transformers) (3.6)\n",
      "Requirement already satisfied: urllib3<3,>=1.21.1 in /root/oneapi-devsummit-sea-2023/itex_xpu/lib/python3.9/site-packages (from requests->transformers) (1.26.18)\n",
      "Requirement already satisfied: certifi>=2017.4.17 in /root/oneapi-devsummit-sea-2023/itex_xpu/lib/python3.9/site-packages (from requests->transformers) (2023.11.17)\n",
      "Requirement already satisfied: greenlet!=0.4.17 in /root/oneapi-devsummit-sea-2023/itex_xpu/lib/python3.9/site-packages (from SQLAlchemy<3,>=1.4->langchain) (3.0.2)\n",
      "Requirement already satisfied: sympy in /root/oneapi-devsummit-sea-2023/itex_xpu/lib/python3.9/site-packages (from torch>=1.10.0->accelerate) (1.12)\n",
      "Requirement already satisfied: networkx in /root/oneapi-devsummit-sea-2023/itex_xpu/lib/python3.9/site-packages (from torch>=1.10.0->accelerate) (3.2.1)\n",
      "Requirement already satisfied: jinja2 in /root/oneapi-devsummit-sea-2023/itex_xpu/lib/python3.9/site-packages (from torch>=1.10.0->accelerate) (3.1.2)\n",
      "Requirement already satisfied: nvidia-cuda-nvrtc-cu11==11.7.99 in /root/oneapi-devsummit-sea-2023/itex_xpu/lib/python3.9/site-packages (from torch>=1.10.0->accelerate) (11.7.99)\n",
      "Requirement already satisfied: nvidia-cuda-runtime-cu11==11.7.99 in /root/oneapi-devsummit-sea-2023/itex_xpu/lib/python3.9/site-packages (from torch>=1.10.0->accelerate) (11.7.99)\n",
      "Requirement already satisfied: nvidia-cuda-cupti-cu11==11.7.101 in /root/oneapi-devsummit-sea-2023/itex_xpu/lib/python3.9/site-packages (from torch>=1.10.0->accelerate) (11.7.101)\n",
      "Requirement already satisfied: nvidia-cudnn-cu11==8.5.0.96 in /root/oneapi-devsummit-sea-2023/itex_xpu/lib/python3.9/site-packages (from torch>=1.10.0->accelerate) (8.5.0.96)\n",
      "Requirement already satisfied: nvidia-cublas-cu11==11.10.3.66 in /root/oneapi-devsummit-sea-2023/itex_xpu/lib/python3.9/site-packages (from torch>=1.10.0->accelerate) (11.10.3.66)\n",
      "Requirement already satisfied: nvidia-cufft-cu11==10.9.0.58 in /root/oneapi-devsummit-sea-2023/itex_xpu/lib/python3.9/site-packages (from torch>=1.10.0->accelerate) (10.9.0.58)\n",
      "Requirement already satisfied: nvidia-curand-cu11==10.2.10.91 in /root/oneapi-devsummit-sea-2023/itex_xpu/lib/python3.9/site-packages (from torch>=1.10.0->accelerate) (10.2.10.91)\n",
      "Requirement already satisfied: nvidia-cusolver-cu11==11.4.0.1 in /root/oneapi-devsummit-sea-2023/itex_xpu/lib/python3.9/site-packages (from torch>=1.10.0->accelerate) (11.4.0.1)\n",
      "Requirement already satisfied: nvidia-cusparse-cu11==11.7.4.91 in /root/oneapi-devsummit-sea-2023/itex_xpu/lib/python3.9/site-packages (from torch>=1.10.0->accelerate) (11.7.4.91)\n",
      "Requirement already satisfied: nvidia-nccl-cu11==2.14.3 in /root/oneapi-devsummit-sea-2023/itex_xpu/lib/python3.9/site-packages (from torch>=1.10.0->accelerate) (2.14.3)\n",
      "Requirement already satisfied: nvidia-nvtx-cu11==11.7.91 in /root/oneapi-devsummit-sea-2023/itex_xpu/lib/python3.9/site-packages (from torch>=1.10.0->accelerate) (11.7.91)\n",
      "Requirement already satisfied: triton==2.0.0 in /root/oneapi-devsummit-sea-2023/itex_xpu/lib/python3.9/site-packages (from torch>=1.10.0->accelerate) (2.0.0)\n",
      "Requirement already satisfied: setuptools in /root/oneapi-devsummit-sea-2023/itex_xpu/lib/python3.9/site-packages (from nvidia-cublas-cu11==11.10.3.66->torch>=1.10.0->accelerate) (58.1.0)\n",
      "Requirement already satisfied: wheel in /root/oneapi-devsummit-sea-2023/itex_xpu/lib/python3.9/site-packages (from nvidia-cublas-cu11==11.10.3.66->torch>=1.10.0->accelerate) (0.42.0)\n",
      "Requirement already satisfied: cmake in /root/oneapi-devsummit-sea-2023/itex_xpu/lib/python3.9/site-packages (from triton==2.0.0->torch>=1.10.0->accelerate) (3.27.9)\n",
      "Requirement already satisfied: lit in /root/oneapi-devsummit-sea-2023/itex_xpu/lib/python3.9/site-packages (from triton==2.0.0->torch>=1.10.0->accelerate) (17.0.6)\n",
      "Requirement already satisfied: click in /root/oneapi-devsummit-sea-2023/itex_xpu/lib/python3.9/site-packages (from nltk->sentence_transformers) (8.1.7)\n",
      "Collecting joblib (from nltk->sentence_transformers)\n",
      "  Downloading joblib-1.3.2-py3-none-any.whl.metadata (5.4 kB)\n",
      "Collecting threadpoolctl>=2.0.0 (from scikit-learn->sentence_transformers)\n",
      "  Downloading threadpoolctl-3.2.0-py3-none-any.whl.metadata (10.0 kB)\n",
      "Collecting torch>=1.10.0 (from accelerate)\n",
      "  Downloading torch-2.1.2-cp39-cp39-manylinux1_x86_64.whl.metadata (25 kB)\n",
      "Requirement already satisfied: pillow!=8.3.*,>=5.3.0 in /root/oneapi-devsummit-sea-2023/itex_xpu/lib/python3.9/site-packages (from torchvision->sentence_transformers) (10.1.0)\n",
      "Collecting nvidia-cuda-nvrtc-cu12==12.1.105 (from torch>=1.10.0->accelerate)\n",
      "  Downloading nvidia_cuda_nvrtc_cu12-12.1.105-py3-none-manylinux1_x86_64.whl (23.7 MB)\n",
      "\u001b[2K     \u001b[90m━━━━━━━━━━━━━━━━━━━━━━━━━━━━━━━━━━━━━━━━\u001b[0m \u001b[32m23.7/23.7 MB\u001b[0m \u001b[31m31.6 MB/s\u001b[0m eta \u001b[36m0:00:00\u001b[0m00:01\u001b[0m00:01\u001b[0m\n",
      "\u001b[?25hCollecting nvidia-cuda-runtime-cu12==12.1.105 (from torch>=1.10.0->accelerate)\n",
      "  Downloading nvidia_cuda_runtime_cu12-12.1.105-py3-none-manylinux1_x86_64.whl (823 kB)\n",
      "\u001b[2K     \u001b[90m━━━━━━━━━━━━━━━━━━━━━━━━━━━━━━━━━━━━━━\u001b[0m \u001b[32m823.6/823.6 kB\u001b[0m \u001b[31m13.7 MB/s\u001b[0m eta \u001b[36m0:00:00\u001b[0m00:01\u001b[0m\n",
      "\u001b[?25hCollecting nvidia-cuda-cupti-cu12==12.1.105 (from torch>=1.10.0->accelerate)\n",
      "  Downloading nvidia_cuda_cupti_cu12-12.1.105-py3-none-manylinux1_x86_64.whl (14.1 MB)\n",
      "\u001b[2K     \u001b[90m━━━━━━━━━━━━━━━━━━━━━━━━━━━━━━━━━━━━━━━━\u001b[0m \u001b[32m14.1/14.1 MB\u001b[0m \u001b[31m43.1 MB/s\u001b[0m eta \u001b[36m0:00:00\u001b[0m00:01\u001b[0m00:01\u001b[0m\n",
      "\u001b[?25hCollecting nvidia-cudnn-cu12==8.9.2.26 (from torch>=1.10.0->accelerate)\n",
      "  Downloading nvidia_cudnn_cu12-8.9.2.26-py3-none-manylinux1_x86_64.whl.metadata (1.6 kB)\n",
      "Collecting nvidia-cublas-cu12==12.1.3.1 (from torch>=1.10.0->accelerate)\n",
      "  Downloading nvidia_cublas_cu12-12.1.3.1-py3-none-manylinux1_x86_64.whl (410.6 MB)\n",
      "\u001b[2K     \u001b[90m━━━━━━━━━━━━━━━━━━━━━━━━━━━━━━━━━━━━━━━\u001b[0m \u001b[32m410.6/410.6 MB\u001b[0m \u001b[31m4.2 MB/s\u001b[0m eta \u001b[36m0:00:00\u001b[0m00:01\u001b[0m00:01\u001b[0m\n",
      "\u001b[?25hCollecting nvidia-cufft-cu12==11.0.2.54 (from torch>=1.10.0->accelerate)\n",
      "  Downloading nvidia_cufft_cu12-11.0.2.54-py3-none-manylinux1_x86_64.whl (121.6 MB)\n",
      "\u001b[2K     \u001b[90m━━━━━━━━━━━━━━━━━━━━━━━━━━━━━━━━━━━━━━\u001b[0m \u001b[32m121.6/121.6 MB\u001b[0m \u001b[31m11.2 MB/s\u001b[0m eta \u001b[36m0:00:00\u001b[0m00:01\u001b[0m00:01\u001b[0m\n",
      "\u001b[?25hCollecting nvidia-curand-cu12==10.3.2.106 (from torch>=1.10.0->accelerate)\n",
      "  Downloading nvidia_curand_cu12-10.3.2.106-py3-none-manylinux1_x86_64.whl (56.5 MB)\n",
      "\u001b[2K     \u001b[90m━━━━━━━━━━━━━━━━━━━━━━━━━━━━━━━━━━━━━━━━\u001b[0m \u001b[32m56.5/56.5 MB\u001b[0m \u001b[31m21.2 MB/s\u001b[0m eta \u001b[36m0:00:00\u001b[0m00:01\u001b[0m00:01\u001b[0m\n",
      "\u001b[?25hCollecting nvidia-cusolver-cu12==11.4.5.107 (from torch>=1.10.0->accelerate)\n",
      "  Downloading nvidia_cusolver_cu12-11.4.5.107-py3-none-manylinux1_x86_64.whl (124.2 MB)\n",
      "\u001b[2K     \u001b[90m━━━━━━━━━━━━━━━━━━━━━━━━━━━━━━━━━━━━━━\u001b[0m \u001b[32m124.2/124.2 MB\u001b[0m \u001b[31m11.9 MB/s\u001b[0m eta \u001b[36m0:00:00\u001b[0m00:01\u001b[0m00:01\u001b[0m\n",
      "\u001b[?25hCollecting nvidia-cusparse-cu12==12.1.0.106 (from torch>=1.10.0->accelerate)\n",
      "  Downloading nvidia_cusparse_cu12-12.1.0.106-py3-none-manylinux1_x86_64.whl (196.0 MB)\n",
      "\u001b[2K     \u001b[90m━━━━━━━━━━━━━━━━━━━━━━━━━━━━━━━━━━━━━━━\u001b[0m \u001b[32m196.0/196.0 MB\u001b[0m \u001b[31m9.2 MB/s\u001b[0m eta \u001b[36m0:00:00\u001b[0m00:01\u001b[0m00:01\u001b[0m\n",
      "\u001b[?25hCollecting nvidia-nccl-cu12==2.18.1 (from torch>=1.10.0->accelerate)\n",
      "  Downloading nvidia_nccl_cu12-2.18.1-py3-none-manylinux1_x86_64.whl (209.8 MB)\n",
      "\u001b[2K     \u001b[90m━━━━━━━━━━━━━━━━━━━━━━━━━━━━━━━━━━━━━━━\u001b[0m \u001b[32m209.8/209.8 MB\u001b[0m \u001b[31m7.5 MB/s\u001b[0m eta \u001b[36m0:00:00\u001b[0m00:01\u001b[0m00:01\u001b[0m\n",
      "\u001b[?25hCollecting nvidia-nvtx-cu12==12.1.105 (from torch>=1.10.0->accelerate)\n",
      "  Downloading nvidia_nvtx_cu12-12.1.105-py3-none-manylinux1_x86_64.whl (99 kB)\n",
      "\u001b[2K     \u001b[90m━━━━━━━━━━━━━━━━━━━━━━━━━━━━━━━━━━━━━━━━\u001b[0m \u001b[32m99.1/99.1 kB\u001b[0m \u001b[31m2.1 MB/s\u001b[0m eta \u001b[36m0:00:00\u001b[0mta \u001b[36m0:00:01\u001b[0m\n",
      "\u001b[?25hCollecting triton==2.1.0 (from torch>=1.10.0->accelerate)\n",
      "  Downloading triton-2.1.0-0-cp39-cp39-manylinux2014_x86_64.manylinux_2_17_x86_64.whl.metadata (1.3 kB)\n",
      "Collecting nvidia-nvjitlink-cu12 (from nvidia-cusolver-cu12==11.4.5.107->torch>=1.10.0->accelerate)\n",
      "  Downloading nvidia_nvjitlink_cu12-12.3.101-py3-none-manylinux1_x86_64.whl.metadata (1.5 kB)\n",
      "Requirement already satisfied: mypy-extensions>=0.3.0 in /root/oneapi-devsummit-sea-2023/itex_xpu/lib/python3.9/site-packages (from typing-inspect<1,>=0.4.0->dataclasses-json<0.6.0,>=0.5.7->langchain) (1.0.0)\n",
      "Requirement already satisfied: MarkupSafe>=2.0 in /root/oneapi-devsummit-sea-2023/itex_xpu/lib/python3.9/site-packages (from jinja2->torch>=1.10.0->accelerate) (2.1.3)\n",
      "Requirement already satisfied: mpmath>=0.19 in /root/oneapi-devsummit-sea-2023/itex_xpu/lib/python3.9/site-packages (from sympy->torch>=1.10.0->accelerate) (1.3.0)\n",
      "Downloading scikit_learn-1.3.2-cp39-cp39-manylinux_2_17_x86_64.manylinux2014_x86_64.whl (10.9 MB)\n",
      "\u001b[2K   \u001b[90m━━━━━━━━━━━━━━━━━━━━━━━━━━━━━━━━━━━━━━━━\u001b[0m \u001b[32m10.9/10.9 MB\u001b[0m \u001b[31m56.5 MB/s\u001b[0m eta \u001b[36m0:00:00\u001b[0m:00:01\u001b[0m0:01\u001b[0m\n",
      "\u001b[?25hDownloading torchvision-0.16.2-cp39-cp39-manylinux1_x86_64.whl (6.8 MB)\n",
      "\u001b[2K   \u001b[90m━━━━━━━━━━━━━━━━━━━━━━━━━━━━━━━━━━━━━━━━\u001b[0m \u001b[32m6.8/6.8 MB\u001b[0m \u001b[31m44.4 MB/s\u001b[0m eta \u001b[36m0:00:00\u001b[0m:00:01\u001b[0m00:01\u001b[0m\n",
      "\u001b[?25hDownloading torch-2.1.2-cp39-cp39-manylinux1_x86_64.whl (670.2 MB)\n",
      "\u001b[2K   \u001b[90m━━━━━━━━━━━━━━━━━━━━━━━━━━━━━━━━━━━━━━━━\u001b[0m \u001b[32m670.2/670.2 MB\u001b[0m \u001b[31m3.6 MB/s\u001b[0m eta \u001b[36m0:00:00\u001b[0m:00:01\u001b[0m00:01\u001b[0m\n",
      "\u001b[?25hDownloading nvidia_cudnn_cu12-8.9.2.26-py3-none-manylinux1_x86_64.whl (731.7 MB)\n",
      "\u001b[2K   \u001b[90m━━━━━━━━━━━━━━━━━━━━━━━━━━━━━━━━━━━━━━━━\u001b[0m \u001b[32m731.7/731.7 MB\u001b[0m \u001b[31m3.1 MB/s\u001b[0m eta \u001b[36m0:00:00\u001b[0m:00:01\u001b[0m00:01\u001b[0m\n",
      "\u001b[?25hDownloading triton-2.1.0-0-cp39-cp39-manylinux2014_x86_64.manylinux_2_17_x86_64.whl (89.3 MB)\n",
      "\u001b[2K   \u001b[90m━━━━━━━━━━━━━━━━━━━━━━━━━━━━━━━━━━━━━━━━\u001b[0m \u001b[32m89.3/89.3 MB\u001b[0m \u001b[31m6.7 MB/s\u001b[0m eta \u001b[36m0:00:00\u001b[0m0:00:01\u001b[0m00:01\u001b[0m\n",
      "\u001b[?25hDownloading joblib-1.3.2-py3-none-any.whl (302 kB)\n",
      "\u001b[2K   \u001b[90m━━━━━━━━━━━━━━━━━━━━━━━━━━━━━━━━━━━━━━━━\u001b[0m \u001b[32m302.2/302.2 kB\u001b[0m \u001b[31m5.9 MB/s\u001b[0m eta \u001b[36m0:00:00\u001b[0m:00:01\u001b[0m\n",
      "\u001b[?25hDownloading threadpoolctl-3.2.0-py3-none-any.whl (15 kB)\n",
      "Downloading nvidia_nvjitlink_cu12-12.3.101-py3-none-manylinux1_x86_64.whl (20.5 MB)\n",
      "\u001b[2K   \u001b[90m━━━━━━━━━━━━━━━━━━━━━━━━━━━━━━━━━━━━━━━━\u001b[0m \u001b[32m20.5/20.5 MB\u001b[0m \u001b[31m41.2 MB/s\u001b[0m eta \u001b[36m0:00:00\u001b[0m:00:01\u001b[0m00:01\u001b[0m\n",
      "\u001b[?25hBuilding wheels for collected packages: sentence_transformers\n",
      "  Building wheel for sentence_transformers (setup.py) ... \u001b[?25ldone\n",
      "\u001b[?25h  Created wheel for sentence_transformers: filename=sentence_transformers-2.2.2-py3-none-any.whl size=125936 sha256=0d0a2329d992b71ed4ede98489a6a47568a348a9589f4976ff391bfe04e063c5\n",
      "  Stored in directory: /root/.cache/pip/wheels/71/67/06/162a3760c40d74dd40bc855d527008d26341c2b0ecf3e8e11f\n",
      "Successfully built sentence_transformers\n",
      "Installing collected packages: sentencepiece, triton, threadpoolctl, python-dotenv, nvidia-nvtx-cu12, nvidia-nvjitlink-cu12, nvidia-nccl-cu12, nvidia-curand-cu12, nvidia-cufft-cu12, nvidia-cuda-runtime-cu12, nvidia-cuda-nvrtc-cu12, nvidia-cuda-cupti-cu12, nvidia-cublas-cu12, joblib, scikit-learn, nvidia-cusparse-cu12, nvidia-cudnn-cu12, nltk, nvidia-cusolver-cu12, torch, torchvision, sentence_transformers\n",
      "  Attempting uninstall: triton\n",
      "    Found existing installation: triton 2.0.0\n",
      "    Uninstalling triton-2.0.0:\n",
      "      Successfully uninstalled triton-2.0.0\n",
      "  Attempting uninstall: torch\n",
      "    Found existing installation: torch 2.0.1\n",
      "    Uninstalling torch-2.0.1:\n",
      "      Successfully uninstalled torch-2.0.1\n",
      "Successfully installed joblib-1.3.2 nltk-3.8.1 nvidia-cublas-cu12-12.1.3.1 nvidia-cuda-cupti-cu12-12.1.105 nvidia-cuda-nvrtc-cu12-12.1.105 nvidia-cuda-runtime-cu12-12.1.105 nvidia-cudnn-cu12-8.9.2.26 nvidia-cufft-cu12-11.0.2.54 nvidia-curand-cu12-10.3.2.106 nvidia-cusolver-cu12-11.4.5.107 nvidia-cusparse-cu12-12.1.0.106 nvidia-nccl-cu12-2.18.1 nvidia-nvjitlink-cu12-12.3.101 nvidia-nvtx-cu12-12.1.105 python-dotenv-1.0.0 scikit-learn-1.3.2 sentence_transformers-2.2.2 sentencepiece-0.1.99 threadpoolctl-3.2.0 torch-2.1.2 torchvision-0.16.2 triton-2.1.0\n"
     ]
    }
   ],
   "source": [
    "!pip install transformers einops accelerate langchain bitsandbytes sentence_transformers pypdf python-dotenv"
   ]
  },
  {
   "cell_type": "code",
   "execution_count": 4,
   "id": "c4a19a20-59a2-4e69-ac5f-1dc01c7e27d0",
   "metadata": {},
   "outputs": [
    {
     "name": "stdout",
     "output_type": "stream",
     "text": [
      "Collecting typing-extensions==4.5.0\n",
      "  Downloading typing_extensions-4.5.0-py3-none-any.whl (27 kB)\n",
      "Installing collected packages: typing-extensions\n",
      "\u001b[31mERROR: pip's dependency resolver does not currently take into account all the packages that are installed. This behaviour is the source of the following dependency conflicts.\n",
      "pydantic 2.5.2 requires typing-extensions>=4.6.1, but you have typing-extensions 4.5.0 which is incompatible.\n",
      "pydantic-core 2.14.5 requires typing-extensions!=4.7.0,>=4.6.0, but you have typing-extensions 4.5.0 which is incompatible.\u001b[0m\u001b[31m\n",
      "\u001b[0mSuccessfully installed typing-extensions-4.5.0\n"
     ]
    }
   ],
   "source": [
    "# !pip install typing-extensions==4.5.0"
   ]
  },
  {
   "cell_type": "code",
   "execution_count": 10,
   "id": "17d5e844-3dfa-4e96-b397-c58209a185b6",
   "metadata": {},
   "outputs": [
    {
     "name": "stdout",
     "output_type": "stream",
     "text": [
      "Requirement already satisfied: accelerate in /root/hackathon/oneapi-devsummit-sea-2023/itex_cpu/lib/python3.9/site-packages (0.25.0)\n",
      "Requirement already satisfied: numpy>=1.17 in /root/hackathon/oneapi-devsummit-sea-2023/itex_cpu/lib/python3.9/site-packages (from accelerate) (1.23.5)\n",
      "Requirement already satisfied: packaging>=20.0 in /root/hackathon/oneapi-devsummit-sea-2023/itex_cpu/lib/python3.9/site-packages (from accelerate) (23.2)\n",
      "Requirement already satisfied: psutil in /root/hackathon/oneapi-devsummit-sea-2023/itex_cpu/lib/python3.9/site-packages (from accelerate) (5.9.6)\n",
      "Requirement already satisfied: pyyaml in /root/hackathon/oneapi-devsummit-sea-2023/itex_cpu/lib/python3.9/site-packages (from accelerate) (6.0.1)\n",
      "Requirement already satisfied: torch>=1.10.0 in /root/hackathon/oneapi-devsummit-sea-2023/itex_cpu/lib/python3.9/site-packages (from accelerate) (2.1.1)\n",
      "Requirement already satisfied: huggingface-hub in /root/hackathon/oneapi-devsummit-sea-2023/itex_cpu/lib/python3.9/site-packages (from accelerate) (0.19.4)\n",
      "Requirement already satisfied: safetensors>=0.3.1 in /root/hackathon/oneapi-devsummit-sea-2023/itex_cpu/lib/python3.9/site-packages (from accelerate) (0.4.1)\n",
      "Requirement already satisfied: filelock in /root/hackathon/oneapi-devsummit-sea-2023/itex_cpu/lib/python3.9/site-packages (from torch>=1.10.0->accelerate) (3.13.1)\n",
      "Requirement already satisfied: typing-extensions in /root/hackathon/oneapi-devsummit-sea-2023/itex_cpu/lib/python3.9/site-packages (from torch>=1.10.0->accelerate) (4.8.0)\n",
      "Requirement already satisfied: sympy in /root/hackathon/oneapi-devsummit-sea-2023/itex_cpu/lib/python3.9/site-packages (from torch>=1.10.0->accelerate) (1.12)\n",
      "Requirement already satisfied: networkx in /root/hackathon/oneapi-devsummit-sea-2023/itex_cpu/lib/python3.9/site-packages (from torch>=1.10.0->accelerate) (3.2.1)\n",
      "Requirement already satisfied: jinja2 in /root/hackathon/oneapi-devsummit-sea-2023/itex_cpu/lib/python3.9/site-packages (from torch>=1.10.0->accelerate) (3.1.2)\n",
      "Requirement already satisfied: fsspec in /root/hackathon/oneapi-devsummit-sea-2023/itex_cpu/lib/python3.9/site-packages (from torch>=1.10.0->accelerate) (2023.12.1)\n",
      "Requirement already satisfied: nvidia-cuda-nvrtc-cu12==12.1.105 in /root/hackathon/oneapi-devsummit-sea-2023/itex_cpu/lib/python3.9/site-packages (from torch>=1.10.0->accelerate) (12.1.105)\n",
      "Requirement already satisfied: nvidia-cuda-runtime-cu12==12.1.105 in /root/hackathon/oneapi-devsummit-sea-2023/itex_cpu/lib/python3.9/site-packages (from torch>=1.10.0->accelerate) (12.1.105)\n",
      "Requirement already satisfied: nvidia-cuda-cupti-cu12==12.1.105 in /root/hackathon/oneapi-devsummit-sea-2023/itex_cpu/lib/python3.9/site-packages (from torch>=1.10.0->accelerate) (12.1.105)\n",
      "Requirement already satisfied: nvidia-cudnn-cu12==8.9.2.26 in /root/hackathon/oneapi-devsummit-sea-2023/itex_cpu/lib/python3.9/site-packages (from torch>=1.10.0->accelerate) (8.9.2.26)\n",
      "Requirement already satisfied: nvidia-cublas-cu12==12.1.3.1 in /root/hackathon/oneapi-devsummit-sea-2023/itex_cpu/lib/python3.9/site-packages (from torch>=1.10.0->accelerate) (12.1.3.1)\n",
      "Requirement already satisfied: nvidia-cufft-cu12==11.0.2.54 in /root/hackathon/oneapi-devsummit-sea-2023/itex_cpu/lib/python3.9/site-packages (from torch>=1.10.0->accelerate) (11.0.2.54)\n",
      "Requirement already satisfied: nvidia-curand-cu12==10.3.2.106 in /root/hackathon/oneapi-devsummit-sea-2023/itex_cpu/lib/python3.9/site-packages (from torch>=1.10.0->accelerate) (10.3.2.106)\n",
      "Requirement already satisfied: nvidia-cusolver-cu12==11.4.5.107 in /root/hackathon/oneapi-devsummit-sea-2023/itex_cpu/lib/python3.9/site-packages (from torch>=1.10.0->accelerate) (11.4.5.107)\n",
      "Requirement already satisfied: nvidia-cusparse-cu12==12.1.0.106 in /root/hackathon/oneapi-devsummit-sea-2023/itex_cpu/lib/python3.9/site-packages (from torch>=1.10.0->accelerate) (12.1.0.106)\n",
      "Requirement already satisfied: nvidia-nccl-cu12==2.18.1 in /root/hackathon/oneapi-devsummit-sea-2023/itex_cpu/lib/python3.9/site-packages (from torch>=1.10.0->accelerate) (2.18.1)\n",
      "Requirement already satisfied: nvidia-nvtx-cu12==12.1.105 in /root/hackathon/oneapi-devsummit-sea-2023/itex_cpu/lib/python3.9/site-packages (from torch>=1.10.0->accelerate) (12.1.105)\n",
      "Requirement already satisfied: triton==2.1.0 in /root/hackathon/oneapi-devsummit-sea-2023/itex_cpu/lib/python3.9/site-packages (from torch>=1.10.0->accelerate) (2.1.0)\n",
      "Requirement already satisfied: nvidia-nvjitlink-cu12 in /root/hackathon/oneapi-devsummit-sea-2023/itex_cpu/lib/python3.9/site-packages (from nvidia-cusolver-cu12==11.4.5.107->torch>=1.10.0->accelerate) (12.3.101)\n",
      "Requirement already satisfied: requests in /root/hackathon/oneapi-devsummit-sea-2023/itex_cpu/lib/python3.9/site-packages (from huggingface-hub->accelerate) (2.31.0)\n",
      "Requirement already satisfied: tqdm>=4.42.1 in /root/hackathon/oneapi-devsummit-sea-2023/itex_cpu/lib/python3.9/site-packages (from huggingface-hub->accelerate) (4.66.1)\n",
      "Requirement already satisfied: MarkupSafe>=2.0 in /root/hackathon/oneapi-devsummit-sea-2023/itex_cpu/lib/python3.9/site-packages (from jinja2->torch>=1.10.0->accelerate) (2.1.3)\n",
      "Requirement already satisfied: charset-normalizer<4,>=2 in /root/hackathon/oneapi-devsummit-sea-2023/itex_cpu/lib/python3.9/site-packages (from requests->huggingface-hub->accelerate) (3.3.2)\n",
      "Requirement already satisfied: idna<4,>=2.5 in /root/hackathon/oneapi-devsummit-sea-2023/itex_cpu/lib/python3.9/site-packages (from requests->huggingface-hub->accelerate) (3.6)\n",
      "Requirement already satisfied: urllib3<3,>=1.21.1 in /root/hackathon/oneapi-devsummit-sea-2023/itex_cpu/lib/python3.9/site-packages (from requests->huggingface-hub->accelerate) (1.26.18)\n",
      "Requirement already satisfied: certifi>=2017.4.17 in /root/hackathon/oneapi-devsummit-sea-2023/itex_cpu/lib/python3.9/site-packages (from requests->huggingface-hub->accelerate) (2023.11.17)\n",
      "Requirement already satisfied: mpmath>=0.19 in /root/hackathon/oneapi-devsummit-sea-2023/itex_cpu/lib/python3.9/site-packages (from sympy->torch>=1.10.0->accelerate) (1.3.0)\n"
     ]
    }
   ],
   "source": [
    "# !pip install accelerate"
   ]
  },
  {
   "cell_type": "code",
   "execution_count": 3,
   "id": "dc27ea92-53ca-4f59-a6b0-828fa42fd843",
   "metadata": {},
   "outputs": [
    {
     "name": "stdout",
     "output_type": "stream",
     "text": [
      "Collecting llama-index==0.8.5\n",
      "  Downloading llama_index-0.8.5-py3-none-any.whl.metadata (4.8 kB)\n",
      "Collecting tiktoken (from llama-index==0.8.5)\n",
      "  Downloading tiktoken-0.5.2-cp39-cp39-manylinux_2_17_x86_64.manylinux2014_x86_64.whl.metadata (6.6 kB)\n",
      "Collecting dataclasses-json (from llama-index==0.8.5)\n",
      "  Downloading dataclasses_json-0.6.3-py3-none-any.whl.metadata (25 kB)\n",
      "Collecting langchain<=0.0.266,>=0.0.262 (from llama-index==0.8.5)\n",
      "  Downloading langchain-0.0.266-py3-none-any.whl.metadata (14 kB)\n",
      "Collecting sqlalchemy>=2.0.15 (from llama-index==0.8.5)\n",
      "  Downloading SQLAlchemy-2.0.23-cp39-cp39-manylinux_2_17_x86_64.manylinux2014_x86_64.whl.metadata (9.6 kB)\n",
      "Requirement already satisfied: numpy in /root/oneapi-devsummit-sea-2023/itex_xpu/lib/python3.9/site-packages (from llama-index==0.8.5) (1.23.5)\n",
      "Collecting tenacity<9.0.0,>=8.2.0 (from llama-index==0.8.5)\n",
      "  Downloading tenacity-8.2.3-py3-none-any.whl.metadata (1.0 kB)\n",
      "Collecting openai>=0.26.4 (from llama-index==0.8.5)\n",
      "  Downloading openai-1.4.0-py3-none-any.whl.metadata (17 kB)\n",
      "Requirement already satisfied: pandas in /root/oneapi-devsummit-sea-2023/itex_xpu/lib/python3.9/site-packages (from llama-index==0.8.5) (2.1.4)\n",
      "Collecting urllib3<2 (from llama-index==0.8.5)\n",
      "  Downloading urllib3-1.26.18-py2.py3-none-any.whl.metadata (48 kB)\n",
      "\u001b[2K     \u001b[90m━━━━━━━━━━━━━━━━━━━━━━━━━━━━━━━━━━━━━━━\u001b[0m \u001b[32m48.9/48.9 kB\u001b[0m \u001b[31m892.6 kB/s\u001b[0m eta \u001b[36m0:00:00\u001b[0ma \u001b[36m0:00:01\u001b[0m\n",
      "\u001b[?25hRequirement already satisfied: fsspec>=2023.5.0 in /root/oneapi-devsummit-sea-2023/itex_xpu/lib/python3.9/site-packages (from llama-index==0.8.5) (2023.10.0)\n",
      "Collecting typing-inspect>=0.8.0 (from llama-index==0.8.5)\n",
      "  Downloading typing_inspect-0.9.0-py3-none-any.whl.metadata (1.5 kB)\n",
      "Requirement already satisfied: typing-extensions>=4.5.0 in /root/oneapi-devsummit-sea-2023/itex_xpu/lib/python3.9/site-packages (from llama-index==0.8.5) (4.5.0)\n",
      "Requirement already satisfied: beautifulsoup4 in /root/oneapi-devsummit-sea-2023/itex_xpu/lib/python3.9/site-packages (from llama-index==0.8.5) (4.12.2)\n",
      "Requirement already satisfied: nest-asyncio in /root/oneapi-devsummit-sea-2023/itex_xpu/lib/python3.9/site-packages (from llama-index==0.8.5) (1.5.8)\n",
      "Requirement already satisfied: PyYAML>=5.3 in /root/oneapi-devsummit-sea-2023/itex_xpu/lib/python3.9/site-packages (from langchain<=0.0.266,>=0.0.262->llama-index==0.8.5) (6.0.1)\n",
      "Requirement already satisfied: aiohttp<4.0.0,>=3.8.3 in /root/oneapi-devsummit-sea-2023/itex_xpu/lib/python3.9/site-packages (from langchain<=0.0.266,>=0.0.262->llama-index==0.8.5) (3.9.1)\n",
      "Requirement already satisfied: async-timeout<5.0.0,>=4.0.0 in /root/oneapi-devsummit-sea-2023/itex_xpu/lib/python3.9/site-packages (from langchain<=0.0.266,>=0.0.262->llama-index==0.8.5) (4.0.3)\n",
      "Collecting dataclasses-json (from llama-index==0.8.5)\n",
      "  Downloading dataclasses_json-0.5.14-py3-none-any.whl.metadata (22 kB)\n",
      "Collecting langsmith<0.1.0,>=0.0.21 (from langchain<=0.0.266,>=0.0.262->llama-index==0.8.5)\n",
      "  Downloading langsmith-0.0.70-py3-none-any.whl.metadata (10 kB)\n",
      "Collecting numexpr<3.0.0,>=2.8.4 (from langchain<=0.0.266,>=0.0.262->llama-index==0.8.5)\n",
      "  Downloading numexpr-2.8.8-cp39-cp39-manylinux_2_17_x86_64.manylinux2014_x86_64.whl.metadata (7.9 kB)\n",
      "Collecting openapi-schema-pydantic<2.0,>=1.2 (from langchain<=0.0.266,>=0.0.262->llama-index==0.8.5)\n",
      "  Downloading openapi_schema_pydantic-1.2.4-py3-none-any.whl (90 kB)\n",
      "\u001b[2K     \u001b[90m━━━━━━━━━━━━━━━━━━━━━━━━━━━━━━━━━━━━━━━━\u001b[0m \u001b[32m90.0/90.0 kB\u001b[0m \u001b[31m1.7 MB/s\u001b[0m eta \u001b[36m0:00:00\u001b[0mta \u001b[36m0:00:01\u001b[0m\n",
      "\u001b[?25hCollecting pydantic<2,>=1 (from langchain<=0.0.266,>=0.0.262->llama-index==0.8.5)\n",
      "  Downloading pydantic-1.10.13-cp39-cp39-manylinux_2_17_x86_64.manylinux2014_x86_64.whl.metadata (149 kB)\n",
      "\u001b[2K     \u001b[90m━━━━━━━━━━━━━━━━━━━━━━━━━━━━━━━━━━━━━━━\u001b[0m \u001b[32m149.6/149.6 kB\u001b[0m \u001b[31m3.1 MB/s\u001b[0m eta \u001b[36m0:00:00\u001b[0ma \u001b[36m0:00:01\u001b[0m\n",
      "\u001b[?25hRequirement already satisfied: requests<3,>=2 in /root/oneapi-devsummit-sea-2023/itex_xpu/lib/python3.9/site-packages (from langchain<=0.0.266,>=0.0.262->llama-index==0.8.5) (2.31.0)\n",
      "Collecting marshmallow<4.0.0,>=3.18.0 (from dataclasses-json->llama-index==0.8.5)\n",
      "  Downloading marshmallow-3.20.1-py3-none-any.whl.metadata (7.8 kB)\n",
      "Requirement already satisfied: anyio<5,>=3.5.0 in /root/oneapi-devsummit-sea-2023/itex_xpu/lib/python3.9/site-packages (from openai>=0.26.4->llama-index==0.8.5) (4.1.0)\n",
      "Collecting distro<2,>=1.7.0 (from openai>=0.26.4->llama-index==0.8.5)\n",
      "  Downloading distro-1.8.0-py3-none-any.whl (20 kB)\n",
      "Collecting httpx<1,>=0.23.0 (from openai>=0.26.4->llama-index==0.8.5)\n",
      "  Downloading httpx-0.25.2-py3-none-any.whl.metadata (6.9 kB)\n",
      "Requirement already satisfied: sniffio in /root/oneapi-devsummit-sea-2023/itex_xpu/lib/python3.9/site-packages (from openai>=0.26.4->llama-index==0.8.5) (1.3.0)\n",
      "Requirement already satisfied: tqdm>4 in /root/oneapi-devsummit-sea-2023/itex_xpu/lib/python3.9/site-packages (from openai>=0.26.4->llama-index==0.8.5) (4.66.1)\n",
      "Collecting greenlet!=0.4.17 (from sqlalchemy>=2.0.15->llama-index==0.8.5)\n",
      "  Downloading greenlet-3.0.2-cp39-cp39-manylinux_2_24_x86_64.manylinux_2_28_x86_64.whl.metadata (3.7 kB)\n",
      "Collecting mypy-extensions>=0.3.0 (from typing-inspect>=0.8.0->llama-index==0.8.5)\n",
      "  Downloading mypy_extensions-1.0.0-py3-none-any.whl (4.7 kB)\n",
      "Requirement already satisfied: soupsieve>1.2 in /root/oneapi-devsummit-sea-2023/itex_xpu/lib/python3.9/site-packages (from beautifulsoup4->llama-index==0.8.5) (2.5)\n",
      "Requirement already satisfied: python-dateutil>=2.8.2 in /root/oneapi-devsummit-sea-2023/itex_xpu/lib/python3.9/site-packages (from pandas->llama-index==0.8.5) (2.8.2)\n",
      "Requirement already satisfied: pytz>=2020.1 in /root/oneapi-devsummit-sea-2023/itex_xpu/lib/python3.9/site-packages (from pandas->llama-index==0.8.5) (2023.3.post1)\n",
      "Requirement already satisfied: tzdata>=2022.1 in /root/oneapi-devsummit-sea-2023/itex_xpu/lib/python3.9/site-packages (from pandas->llama-index==0.8.5) (2023.3)\n",
      "Requirement already satisfied: regex>=2022.1.18 in /root/oneapi-devsummit-sea-2023/itex_xpu/lib/python3.9/site-packages (from tiktoken->llama-index==0.8.5) (2023.10.3)\n",
      "Requirement already satisfied: attrs>=17.3.0 in /root/oneapi-devsummit-sea-2023/itex_xpu/lib/python3.9/site-packages (from aiohttp<4.0.0,>=3.8.3->langchain<=0.0.266,>=0.0.262->llama-index==0.8.5) (23.1.0)\n",
      "Requirement already satisfied: multidict<7.0,>=4.5 in /root/oneapi-devsummit-sea-2023/itex_xpu/lib/python3.9/site-packages (from aiohttp<4.0.0,>=3.8.3->langchain<=0.0.266,>=0.0.262->llama-index==0.8.5) (6.0.4)\n",
      "Requirement already satisfied: yarl<2.0,>=1.0 in /root/oneapi-devsummit-sea-2023/itex_xpu/lib/python3.9/site-packages (from aiohttp<4.0.0,>=3.8.3->langchain<=0.0.266,>=0.0.262->llama-index==0.8.5) (1.9.4)\n",
      "Requirement already satisfied: frozenlist>=1.1.1 in /root/oneapi-devsummit-sea-2023/itex_xpu/lib/python3.9/site-packages (from aiohttp<4.0.0,>=3.8.3->langchain<=0.0.266,>=0.0.262->llama-index==0.8.5) (1.4.0)\n",
      "Requirement already satisfied: aiosignal>=1.1.2 in /root/oneapi-devsummit-sea-2023/itex_xpu/lib/python3.9/site-packages (from aiohttp<4.0.0,>=3.8.3->langchain<=0.0.266,>=0.0.262->llama-index==0.8.5) (1.3.1)\n",
      "Requirement already satisfied: idna>=2.8 in /root/oneapi-devsummit-sea-2023/itex_xpu/lib/python3.9/site-packages (from anyio<5,>=3.5.0->openai>=0.26.4->llama-index==0.8.5) (3.6)\n",
      "Requirement already satisfied: exceptiongroup>=1.0.2 in /root/oneapi-devsummit-sea-2023/itex_xpu/lib/python3.9/site-packages (from anyio<5,>=3.5.0->openai>=0.26.4->llama-index==0.8.5) (1.2.0)\n",
      "Requirement already satisfied: certifi in /root/oneapi-devsummit-sea-2023/itex_xpu/lib/python3.9/site-packages (from httpx<1,>=0.23.0->openai>=0.26.4->llama-index==0.8.5) (2023.11.17)\n",
      "Collecting httpcore==1.* (from httpx<1,>=0.23.0->openai>=0.26.4->llama-index==0.8.5)\n",
      "  Downloading httpcore-1.0.2-py3-none-any.whl.metadata (20 kB)\n",
      "Collecting h11<0.15,>=0.13 (from httpcore==1.*->httpx<1,>=0.23.0->openai>=0.26.4->llama-index==0.8.5)\n",
      "  Downloading h11-0.14.0-py3-none-any.whl (58 kB)\n",
      "\u001b[2K     \u001b[90m━━━━━━━━━━━━━━━━━━━━━━━━━━━━━━━━━━━━━━━━\u001b[0m \u001b[32m58.3/58.3 kB\u001b[0m \u001b[31m1.1 MB/s\u001b[0m eta \u001b[36m0:00:00\u001b[0mta \u001b[36m0:00:01\u001b[0m\n",
      "\u001b[?25hRequirement already satisfied: packaging>=17.0 in /root/oneapi-devsummit-sea-2023/itex_xpu/lib/python3.9/site-packages (from marshmallow<4.0.0,>=3.18.0->dataclasses-json->llama-index==0.8.5) (23.2)\n",
      "Requirement already satisfied: six>=1.5 in /root/oneapi-devsummit-sea-2023/itex_xpu/lib/python3.9/site-packages (from python-dateutil>=2.8.2->pandas->llama-index==0.8.5) (1.16.0)\n",
      "Requirement already satisfied: charset-normalizer<4,>=2 in /root/oneapi-devsummit-sea-2023/itex_xpu/lib/python3.9/site-packages (from requests<3,>=2->langchain<=0.0.266,>=0.0.262->llama-index==0.8.5) (3.3.2)\n",
      "Downloading llama_index-0.8.5-py3-none-any.whl (678 kB)\n",
      "\u001b[2K   \u001b[90m━━━━━━━━━━━━━━━━━━━━━━━━━━━━━━━━━━━━━━━━\u001b[0m \u001b[32m678.4/678.4 kB\u001b[0m \u001b[31m11.7 MB/s\u001b[0m eta \u001b[36m0:00:00\u001b[0m00:01\u001b[0m\n",
      "\u001b[?25hDownloading langchain-0.0.266-py3-none-any.whl (1.5 MB)\n",
      "\u001b[2K   \u001b[90m━━━━━━━━━━━━━━━━━━━━━━━━━━━━━━━━━━━━━━━━\u001b[0m \u001b[32m1.5/1.5 MB\u001b[0m \u001b[31m18.3 MB/s\u001b[0m eta \u001b[36m0:00:00\u001b[0m:00:01\u001b[0m\n",
      "\u001b[?25hDownloading dataclasses_json-0.5.14-py3-none-any.whl (26 kB)\n",
      "Downloading openai-1.4.0-py3-none-any.whl (221 kB)\n",
      "\u001b[2K   \u001b[90m━━━━━━━━━━━━━━━━━━━━━━━━━━━━━━━━━━━━━━━━\u001b[0m \u001b[32m221.9/221.9 kB\u001b[0m \u001b[31m4.4 MB/s\u001b[0m eta \u001b[36m0:00:00\u001b[0mta \u001b[36m0:00:01\u001b[0m\n",
      "\u001b[?25hDownloading SQLAlchemy-2.0.23-cp39-cp39-manylinux_2_17_x86_64.manylinux2014_x86_64.whl (3.1 MB)\n",
      "\u001b[2K   \u001b[90m━━━━━━━━━━━━━━━━━━━━━━━━━━━━━━━━━━━━━━━━\u001b[0m \u001b[32m3.1/3.1 MB\u001b[0m \u001b[31m28.5 MB/s\u001b[0m eta \u001b[36m0:00:00\u001b[0m:00:01\u001b[0m\n",
      "\u001b[?25hDownloading tenacity-8.2.3-py3-none-any.whl (24 kB)\n",
      "Downloading typing_inspect-0.9.0-py3-none-any.whl (8.8 kB)\n",
      "Downloading urllib3-1.26.18-py2.py3-none-any.whl (143 kB)\n",
      "\u001b[2K   \u001b[90m━━━━━━━━━━━━━━━━━━━━━━━━━━━━━━━━━━━━━━━━\u001b[0m \u001b[32m143.8/143.8 kB\u001b[0m \u001b[31m2.9 MB/s\u001b[0m eta \u001b[36m0:00:00\u001b[0m:00:01\u001b[0m\n",
      "\u001b[?25hDownloading tiktoken-0.5.2-cp39-cp39-manylinux_2_17_x86_64.manylinux2014_x86_64.whl (2.0 MB)\n",
      "\u001b[2K   \u001b[90m━━━━━━━━━━━━━━━━━━━━━━━━━━━━━━━━━━━━━━━━\u001b[0m \u001b[32m2.0/2.0 MB\u001b[0m \u001b[31m23.4 MB/s\u001b[0m eta \u001b[36m0:00:00\u001b[0m:00:01\u001b[0m\n",
      "\u001b[?25hDownloading greenlet-3.0.2-cp39-cp39-manylinux_2_24_x86_64.manylinux_2_28_x86_64.whl (610 kB)\n",
      "\u001b[2K   \u001b[90m━━━━━━━━━━━━━━━━━━━━━━━━━━━━━━━━━━━━━━━━\u001b[0m \u001b[32m610.9/610.9 kB\u001b[0m \u001b[31m10.1 MB/s\u001b[0m eta \u001b[36m0:00:00\u001b[0m00:01\u001b[0m\n",
      "\u001b[?25hDownloading httpx-0.25.2-py3-none-any.whl (74 kB)\n",
      "\u001b[2K   \u001b[90m━━━━━━━━━━━━━━━━━━━━━━━━━━━━━━━━━━━━━━━━\u001b[0m \u001b[32m75.0/75.0 kB\u001b[0m \u001b[31m1.5 MB/s\u001b[0m eta \u001b[36m0:00:00\u001b[0meta \u001b[36m0:00:01\u001b[0m\n",
      "\u001b[?25hDownloading httpcore-1.0.2-py3-none-any.whl (76 kB)\n",
      "\u001b[2K   \u001b[90m━━━━━━━━━━━━━━━━━━━━━━━━━━━━━━━━━━━━━━━━\u001b[0m \u001b[32m76.9/76.9 kB\u001b[0m \u001b[31m1.5 MB/s\u001b[0m eta \u001b[36m0:00:00\u001b[0mta \u001b[36m0:00:01\u001b[0m\n",
      "\u001b[?25hDownloading langsmith-0.0.70-py3-none-any.whl (45 kB)\n",
      "\u001b[2K   \u001b[90m━━━━━━━━━━━━━━━━━━━━━━━━━━━━━━━━━━━━━━━━\u001b[0m \u001b[32m46.0/46.0 kB\u001b[0m \u001b[31m822.4 kB/s\u001b[0m eta \u001b[36m0:00:00\u001b[0m \u001b[36m0:00:01\u001b[0m\n",
      "\u001b[?25hDownloading marshmallow-3.20.1-py3-none-any.whl (49 kB)\n",
      "\u001b[2K   \u001b[90m━━━━━━━━━━━━━━━━━━━━━━━━━━━━━━━━━━━━━━━━\u001b[0m \u001b[32m49.4/49.4 kB\u001b[0m \u001b[31m928.2 kB/s\u001b[0m eta \u001b[36m0:00:00\u001b[0m \u001b[36m0:00:01\u001b[0m\n",
      "\u001b[?25hDownloading numexpr-2.8.8-cp39-cp39-manylinux_2_17_x86_64.manylinux2014_x86_64.whl (374 kB)\n",
      "\u001b[2K   \u001b[90m━━━━━━━━━━━━━━━━━━━━━━━━━━━━━━━━━━━━━━━━\u001b[0m \u001b[32m374.3/374.3 kB\u001b[0m \u001b[31m7.2 MB/s\u001b[0m eta \u001b[36m0:00:00\u001b[0m:00:01\u001b[0m\n",
      "\u001b[?25hDownloading pydantic-1.10.13-cp39-cp39-manylinux_2_17_x86_64.manylinux2014_x86_64.whl (3.2 MB)\n",
      "\u001b[2K   \u001b[90m━━━━━━━━━━━━━━━━━━━━━━━━━━━━━━━━━━━━━━━━\u001b[0m \u001b[32m3.2/3.2 MB\u001b[0m \u001b[31m29.8 MB/s\u001b[0m eta \u001b[36m0:00:00\u001b[0m:00:01\u001b[0m\n",
      "\u001b[?25hInstalling collected packages: urllib3, tenacity, pydantic, numexpr, mypy-extensions, marshmallow, h11, greenlet, distro, typing-inspect, sqlalchemy, openapi-schema-pydantic, httpcore, tiktoken, langsmith, httpx, dataclasses-json, openai, langchain, llama-index\n",
      "  Attempting uninstall: urllib3\n",
      "    Found existing installation: urllib3 2.1.0\n",
      "    Uninstalling urllib3-2.1.0:\n",
      "      Successfully uninstalled urllib3-2.1.0\n",
      "Successfully installed dataclasses-json-0.5.14 distro-1.8.0 greenlet-3.0.2 h11-0.14.0 httpcore-1.0.2 httpx-0.25.2 langchain-0.0.266 langsmith-0.0.70 llama-index-0.8.5 marshmallow-3.20.1 mypy-extensions-1.0.0 numexpr-2.8.8 openai-1.4.0 openapi-schema-pydantic-1.2.4 pydantic-1.10.13 sqlalchemy-2.0.23 tenacity-8.2.3 tiktoken-0.5.2 typing-inspect-0.9.0 urllib3-1.26.18\n"
     ]
    }
   ],
   "source": [
    "!pip install llama-index==0.8.5"
   ]
  },
  {
   "cell_type": "code",
   "execution_count": 3,
   "id": "9f887b16-31dc-41ba-9832-99034f0d58a0",
   "metadata": {},
   "outputs": [
    {
     "name": "stdout",
     "output_type": "stream",
     "text": [
      "Collecting pyarrow\n",
      "  Downloading pyarrow-14.0.1-cp39-cp39-manylinux_2_28_x86_64.whl.metadata (3.0 kB)\n",
      "Requirement already satisfied: numpy>=1.16.6 in /root/hackathon/oneapi-devsummit-sea-2023/itex_xpu/lib/python3.9/site-packages (from pyarrow) (1.23.5)\n",
      "Downloading pyarrow-14.0.1-cp39-cp39-manylinux_2_28_x86_64.whl (38.0 MB)\n",
      "\u001b[2K   \u001b[90m━━━━━━━━━━━━━━━━━━━━━━━━━━━━━━━━━━━━━━━━\u001b[0m \u001b[32m38.0/38.0 MB\u001b[0m \u001b[31m17.8 MB/s\u001b[0m eta \u001b[36m0:00:00\u001b[0m:00:01\u001b[0m00:01\u001b[0m\n",
      "\u001b[?25hInstalling collected packages: pyarrow\n",
      "Successfully installed pyarrow-14.0.1\n"
     ]
    }
   ],
   "source": [
    "!pip install pyarrow"
   ]
  },
  {
   "cell_type": "code",
   "execution_count": 2,
   "id": "b9d5c5b0-c537-4259-90a4-e15c601d54dd",
   "metadata": {},
   "outputs": [
    {
     "name": "stdout",
     "output_type": "stream",
     "text": [
      "Collecting intel_extension_for_pytorch\n",
      "  Downloading intel_extension_for_pytorch-2.1.100-cp39-cp39-manylinux2014_x86_64.whl.metadata (7.3 kB)\n",
      "Requirement already satisfied: psutil in /root/oneapi-devsummit-sea-2023/itex_xpu/lib/python3.9/site-packages (from intel_extension_for_pytorch) (5.9.6)\n",
      "Requirement already satisfied: numpy in /root/oneapi-devsummit-sea-2023/itex_xpu/lib/python3.9/site-packages (from intel_extension_for_pytorch) (1.23.5)\n",
      "Requirement already satisfied: packaging in /root/oneapi-devsummit-sea-2023/itex_xpu/lib/python3.9/site-packages (from intel_extension_for_pytorch) (23.2)\n",
      "Downloading intel_extension_for_pytorch-2.1.100-cp39-cp39-manylinux2014_x86_64.whl (51.2 MB)\n",
      "\u001b[2K   \u001b[90m━━━━━━━━━━━━━━━━━━━━━━━━━━━━━━━━━━━━━━━━\u001b[0m \u001b[32m51.2/51.2 MB\u001b[0m \u001b[31m21.4 MB/s\u001b[0m eta \u001b[36m0:00:00\u001b[0m:00:01\u001b[0m0:01\u001b[0mm\n",
      "\u001b[?25hInstalling collected packages: intel_extension_for_pytorch\n",
      "Successfully installed intel_extension_for_pytorch-2.1.100\n"
     ]
    }
   ],
   "source": [
    "!pip install intel_extension_for_pytorch"
   ]
  },
  {
   "cell_type": "code",
   "execution_count": 2,
   "id": "f8fdb329-75dc-4fc3-b369-576f2438d68f",
   "metadata": {},
   "outputs": [
    {
     "name": "stderr",
     "output_type": "stream",
     "text": [
      "/root/oneapi-devsummit-sea-2023/itex_xpu/lib/python3.9/site-packages/bitsandbytes/cextension.py:34: UserWarning: The installed version of bitsandbytes was compiled without GPU support. 8-bit optimizers, 8-bit multiplication, and GPU quantization are unavailable.\n",
      "  warn(\"The installed version of bitsandbytes was compiled without GPU support. \"\n"
     ]
    },
    {
     "name": "stdout",
     "output_type": "stream",
     "text": [
      "/root/oneapi-devsummit-sea-2023/itex_xpu/lib/python3.9/site-packages/bitsandbytes/libbitsandbytes_cpu.so: undefined symbol: cadam32bit_grad_fp32\n"
     ]
    },
    {
     "name": "stderr",
     "output_type": "stream",
     "text": [
      "2023-12-15 18:41:36.604241: I tensorflow/core/util/port.cc:110] oneDNN custom operations are on. You may see slightly different numerical results due to floating-point round-off errors from different computation orders. To turn them off, set the environment variable `TF_ENABLE_ONEDNN_OPTS=0`.\n",
      "2023-12-15 18:42:04,289 - numexpr.utils - INFO - Note: NumExpr detected 32 cores but \"NUMEXPR_MAX_THREADS\" not set, so enforcing safe limit of 8.\n",
      "2023-12-15 18:42:04,292 - numexpr.utils - INFO - NumExpr defaulting to 8 threads.\n"
     ]
    }
   ],
   "source": [
    "!export NUMEXPR_MAX_THREADS=30\n",
    "import logging\n",
    "import sys\n",
    "import torch\n",
    "########INTEL########\n",
    "import intel_extension_for_pytorch as ipex\n",
    "#####################\n",
    "from pprint import pprint\n",
    "from llama_index import VectorStoreIndex, SimpleDirectoryReader, ServiceContext\n",
    "from llama_index.llms import HuggingFaceLLM\n",
    "from langchain.embeddings.huggingface import HuggingFaceEmbeddings\n",
    "# from llama_index import LangchainEmbedding\n",
    "from llama_index.prompts.prompts import SimpleInputPrompt"
   ]
  },
  {
   "cell_type": "code",
   "execution_count": 3,
   "id": "ab31122a-fae0-4a62-9ca0-7d93612e4b29",
   "metadata": {},
   "outputs": [],
   "source": [
    "from pathlib import Path\n",
    "from llama_index import download_loader"
   ]
  },
  {
   "cell_type": "code",
   "execution_count": 4,
   "id": "6a65f9e2-2ace-43d7-93a7-fbe7e6a58350",
   "metadata": {},
   "outputs": [],
   "source": [
    "PDFReader = download_loader(\"PDFReader\")\n",
    "loader = PDFReader()"
   ]
  },
  {
   "cell_type": "code",
   "execution_count": 5,
   "id": "94da6a6c-5d3c-4d8b-9188-ac73d9c42c40",
   "metadata": {},
   "outputs": [],
   "source": [
    "documents = loader.load_data(file=Path('../supreme-court-data/data/data/8356-2015___supremecourt__2015__8356__8356_2015_Judgement_12-Oct-2017.pdf'))"
   ]
  },
  {
   "cell_type": "code",
   "execution_count": 6,
   "id": "7fc884f5-517b-4539-94ff-96c94e76c5fd",
   "metadata": {},
   "outputs": [],
   "source": [
    "system_prompt = \"You are a data extractor. Extract the exact data from given document. If no information is found, please reply 'No information found'\"\n",
    "# query_wrapper_prompt = SimpleInputPrompt(\"<|USER|>{query_str}<|ASSISTANT|>\")\n",
    "query_wrapper_prompt = \"<|USER|>{query_str}<|ASSISTANT|>\""
   ]
  },
  {
   "cell_type": "code",
   "execution_count": 7,
   "id": "60345eae-f6bb-4c35-b966-db28c2407271",
   "metadata": {},
   "outputs": [],
   "source": [
    "context_window = 4096\n",
    "temperature = 0.1\n",
    "model_name = 'litelo/llama-2-case-whisper'\n",
    "tokenizer_model_name='meta-llama/Llama-2-7b-chat-hf'"
   ]
  },
  {
   "cell_type": "code",
   "execution_count": 8,
   "id": "ad9e5237-8c44-42d3-a7ac-93d1794d4be2",
   "metadata": {},
   "outputs": [],
   "source": [
    "if torch.xpu.is_available():\n",
    "    seed = 88\n",
    "    random.seed(seed)\n",
    "    torch.xpu.manual_seed(seed)\n",
    "    torch.xpu.manual_seed_all(seed)\n",
    "\n",
    "def select_device(preferred_device=None):\n",
    "    \"\"\"\n",
    "    Selects the best available XPU device or the preferred device if specified.\n",
    "\n",
    "    Args:\n",
    "        preferred_device (str, optional): Preferred device string (e.g., \"cpu\", \"xpu\", \"xpu:0\", \"xpu:1\", etc.). If None, a random available XPU device will be selected or CPU if no XPU devices are available.\n",
    "\n",
    "    Returns:\n",
    "        torch.device: The selected device object.\n",
    "    \"\"\"\n",
    "    try:\n",
    "        if preferred_device and preferred_device.startswith(\"cpu\"):\n",
    "            print(\"Using CPU.\")\n",
    "            return torch.device(\"cpu\")\n",
    "        if preferred_device and preferred_device.startswith(\"xpu\"):\n",
    "            if preferred_device == \"xpu\" or (\n",
    "                \":\" in preferred_device\n",
    "                and int(preferred_device.split(\":\")[1]) >= torch.xpu.device_count()\n",
    "            ):\n",
    "                preferred_device = (\n",
    "                    None  # Handle as if no preferred device was specified\n",
    "                )\n",
    "            else:\n",
    "                device = torch.device(preferred_device)\n",
    "                if device.type == \"xpu\" and device.index < torch.xpu.device_count():\n",
    "                    vram_used = torch.xpu.memory_allocated(device) / (\n",
    "                        1024**2\n",
    "                    )  # In MB\n",
    "                    print(\n",
    "                        f\"Using preferred device: {device}, VRAM used: {vram_used:.2f} MB\"\n",
    "                    )\n",
    "                    return device\n",
    "\n",
    "        if torch.xpu.is_available():\n",
    "            device_id = random.choice(\n",
    "                range(torch.xpu.device_count())\n",
    "            )  # Select a random available XPU device\n",
    "            device = torch.device(f\"xpu:{device_id}\")\n",
    "            vram_used = torch.xpu.memory_allocated(device) / (1024**2)  # In MB\n",
    "            print(f\"Selected device: {device}, VRAM used: {vram_used:.2f} MB\")\n",
    "            return device\n",
    "    except Exception as e:\n",
    "        print(f\"An error occurred while selecting the device: {e}\")\n",
    "    print(\"No XPU devices available or preferred device not found. Using CPU.\")\n",
    "    return torch.device(\"cpu\")"
   ]
  },
  {
   "cell_type": "code",
   "execution_count": 9,
   "id": "6a7c77ec-fe9b-4960-9ae6-a151b2b6f24e",
   "metadata": {},
   "outputs": [
    {
     "name": "stdout",
     "output_type": "stream",
     "text": [
      "No XPU devices available or preferred device not found. Using CPU.\n"
     ]
    }
   ],
   "source": [
    "from transformers import LlamaTokenizer, LlamaForCausalLM\n",
    "tokenizer = LlamaTokenizer.from_pretrained(tokenizer_model_name)\n",
    "selected_device = select_device(\"xpu\")\n",
    "# model_llm = (\n",
    "#     LlamaForCausalLM.from_pretrained(\n",
    "#     model_name,\n",
    "#     torch_dtype=torch.bfloat16,\n",
    "#     low_cpu_mem_usage=True,\n",
    "#     # load_in_4bit=True,\n",
    "#     device_map='auto'\n",
    "# )\n",
    "# )\n"
   ]
  },
  {
   "cell_type": "code",
   "execution_count": 10,
   "id": "3688ad7c-c52f-4a21-8228-f31ee93bdb65",
   "metadata": {},
   "outputs": [
    {
     "name": "stderr",
     "output_type": "stream",
     "text": [
      "2023-12-15 18:42:46,032 - sentence_transformers.SentenceTransformer - INFO - Load pretrained SentenceTransformer: sentence-transformers/all-mpnet-base-v2\n",
      "2023-12-15 18:42:52,553 - sentence_transformers.SentenceTransformer - INFO - Use pytorch device: cpu\n"
     ]
    }
   ],
   "source": [
    "embed_model = HuggingFaceEmbeddings(model_name=\"sentence-transformers/all-mpnet-base-v2\")"
   ]
  },
  {
   "cell_type": "code",
   "execution_count": 11,
   "id": "fd7285f5-1f53-4b33-b6aa-296a6127c868",
   "metadata": {},
   "outputs": [],
   "source": [
    "import cProfile\n",
    "import time"
   ]
  },
  {
   "cell_type": "code",
   "execution_count": 12,
   "id": "32f47b77-2e53-4d50-85f3-280065c2ad81",
   "metadata": {},
   "outputs": [],
   "source": [
    "def execute_model(intel_optimize):\n",
    "    if intel_optimize:\n",
    "        model_llm = (\n",
    "            LlamaForCausalLM.from_pretrained(\n",
    "                model_name,\n",
    "                low_cpu_mem_usage=True,\n",
    "                torch_dtype=torch.bfloat16\n",
    "            )\n",
    "            .to(selected_device)\n",
    "            .eval()\n",
    "        )\n",
    "        if hasattr(ipex, \"optimize_transformers\"):\n",
    "            print(\"transformer optimize\")\n",
    "            try:\n",
    "                model_llm=ipex.optimize_transformers(model_llm, dtype=torch.bfloat16)\n",
    "            except:\n",
    "                model_llm=ipex.optimize(model_llm, dtype=torch.bfloat16)\n",
    "        else:\n",
    "            print(\"no-transformer optimize\")\n",
    "            model_llm=ipex.optimize(model_llm, dtype=torch.bfloat16)\n",
    "    else:\n",
    "        model_llm = (\n",
    "            LlamaForCausalLM.from_pretrained(\n",
    "                model_name\n",
    "            )\n",
    "            .to(selected_device)\n",
    "            .eval()\n",
    "        )\n",
    "    llm = HuggingFaceLLM(\n",
    "        context_window=context_window,\n",
    "        max_new_tokens=256,\n",
    "        generate_kwargs={\"temperature\":temperature,\"top_p\":0.5, \"do_sample\": False},\n",
    "        system_prompt= system_prompt,\n",
    "        query_wrapper_prompt = query_wrapper_prompt,\n",
    "        tokenizer=tokenizer,\n",
    "        model=model_llm,\n",
    "        device_map='auto',\n",
    "        model_kwargs={\"temperature\":0.1, \"top_p\":0.5,\"use_auth_token\": True}\n",
    "    )\n",
    "    service_context = ServiceContext.from_defaults(\n",
    "        chunk_size=1024,\n",
    "        llm=llm,\n",
    "        embed_model=embed_model\n",
    "    )\n",
    "    index = VectorStoreIndex.from_documents(documents, service_context=service_context)\n",
    "    query_engine = index.as_query_engine()\n",
    "    \n",
    "    start_time = time.time()\n",
    "    user_query=\"what is this case about\"\n",
    "    \n",
    "    response=query_engine.query(user_query)\n",
    "    print(\"Answer: \",response.response, \"\\n\")\n",
    "    time_taken = (time.time() - start_time)\n",
    "    print('\\n', 'time taken: ', \"--- %s seconds ---\" % time_taken)\n",
    "    model_llm = \"\"\n",
    "    return time_taken"
   ]
  },
  {
   "cell_type": "code",
   "execution_count": 14,
   "id": "2c6c2950-27c0-42f4-ae21-de42801f5c4e",
   "metadata": {},
   "outputs": [
    {
     "data": {
      "application/vnd.jupyter.widget-view+json": {
       "model_id": "898137827eac4475bb65757fb67bc04a",
       "version_major": 2,
       "version_minor": 0
      },
      "text/plain": [
       "Loading checkpoint shards:   0%|          | 0/2 [00:00<?, ?it/s]"
      ]
     },
     "metadata": {},
     "output_type": "display_data"
    },
    {
     "data": {
      "application/vnd.jupyter.widget-view+json": {
       "model_id": "e95176bd475b481fb91e4ca647eee6a7",
       "version_major": 2,
       "version_minor": 0
      },
      "text/plain": [
       "Batches:   0%|          | 0/1 [00:00<?, ?it/s]"
      ]
     },
     "metadata": {},
     "output_type": "display_data"
    },
    {
     "data": {
      "application/vnd.jupyter.widget-view+json": {
       "model_id": "a3f1daa8356442f794cd2bde81ff6fd6",
       "version_major": 2,
       "version_minor": 0
      },
      "text/plain": [
       "Batches:   0%|          | 0/1 [00:00<?, ?it/s]"
      ]
     },
     "metadata": {},
     "output_type": "display_data"
    },
    {
     "name": "stderr",
     "output_type": "stream",
     "text": [
      "/root/oneapi-devsummit-sea-2023/itex_xpu/lib/python3.9/site-packages/transformers/generation/utils.py:1270: UserWarning: You have modified the pretrained model configuration to control generation. This is a deprecated strategy to control generation and will be removed soon, in a future version. Please use a generation configuration file (see https://huggingface.co/docs/transformers/main_classes/text_generation )\n",
      "  warnings.warn(\n"
     ]
    },
    {
     "name": "stdout",
     "output_type": "stream",
     "text": [
      "Answer:  The case is about the classification of a perfumery compound as excisable or non-excisable. The assessee, M/s. Karnataka Soaps & Detergents Ltd, sold certain quantity of perfumery compound to M/s. Tibetan Handicrafts Centre Bylkuppe, Mysore District. The CESTAT held that the perfumery compound is excisable and classified it under Chapter Sub-Heading 3302.90. However, the Supreme Court allowed the appeals and set aside the orders dated 11.11.2010 passed by the CESTAT. The Court held that the perfumery compound is not excisable and classified it under Chapter Sub-Heading 3302.10. No costs. \n",
      "\n",
      "\n",
      " time taken:  --- 41.42193126678467 seconds ---\n"
     ]
    }
   ],
   "source": [
    "# time_with_intel = execute_model(True)\n",
    "# 21.53885245323181\n",
    "time_without_intel = execute_model(False)"
   ]
  },
  {
   "cell_type": "code",
   "execution_count": 15,
   "id": "a49b15fc-de59-4e54-be5a-08ec2750bbb1",
   "metadata": {},
   "outputs": [],
   "source": [
    "time_with_intel = 21.53885245323181"
   ]
  },
  {
   "cell_type": "code",
   "execution_count": 16,
   "id": "694880f3-8ce2-4b5b-bef1-8950ba32ea5e",
   "metadata": {},
   "outputs": [
    {
     "name": "stdout",
     "output_type": "stream",
     "text": [
      "huggingface/tokenizers: The current process just got forked, after parallelism has already been used. Disabling parallelism to avoid deadlocks...\n",
      "To disable this warning, you can either:\n",
      "\t- Avoid using `tokenizers` before the fork if possible\n",
      "\t- Explicitly set the environment variable TOKENIZERS_PARALLELISM=(true | false)\n"
     ]
    },
    {
     "name": "stderr",
     "output_type": "stream",
     "text": [
      "2023-12-15 18:48:21,510 - matplotlib.font_manager - INFO - generated new fontManager\n"
     ]
    }
   ],
   "source": [
    "import matplotlib.pyplot as plt"
   ]
  },
  {
   "cell_type": "code",
   "execution_count": 18,
   "id": "6df2a4e5-dfad-4a74-bddb-6689c1b605e1",
   "metadata": {},
   "outputs": [
    {
     "data": {
      "image/png": "[encoded data removed]",
      "text/plain": [
       "<Figure size 400x300 with 1 Axes>"
      ]
     },
     "metadata": {},
     "output_type": "display_data"
    }
   ],
   "source": [
    "benchmark_result = [(\"With ipex\", time_with_intel), (\"Without ipex\", time_without_intel)]\n",
    "\n",
    "# Plotting the results\n",
    "plt.figure(figsize=(4, 3))\n",
    "plt.title(\"Performance Comparison: ipex optimization\")\n",
    "plt.ylabel(\"Runtime (seconds)\")\n",
    "plt.bar([result[0] for result in benchmark_result], [result[1] for result in benchmark_result])\n",
    "plt.show()\n"
   ]
  },
  {
   "cell_type": "code",
   "execution_count": null,
   "id": "be7309d6-b48a-425c-9531-321369ac8db4",
   "metadata": {},
   "outputs": [],
   "source": []
  }
 ],
 "metadata": {
  "kernelspec": {
   "display_name": "Python 3 (ipykernel)",
   "language": "python",
   "name": "python3"
  },
  "language_info": {
   "codemirror_mode": {
    "name": "ipython",
    "version": 3
   },
   "file_extension": ".py",
   "mimetype": "text/x-python",
   "name": "python",
   "nbconvert_exporter": "python",
   "pygments_lexer": "ipython3",
   "version": "3.9.18"
  }
 },
 "nbformat": 4,
 "nbformat_minor": 5
}
