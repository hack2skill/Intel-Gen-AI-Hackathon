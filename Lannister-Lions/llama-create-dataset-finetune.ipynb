{
 "cells": [
  {
   "cell_type": "code",
   "execution_count": 1,
   "metadata": {
    "application/vnd.databricks.v1+cell": {
     "cellMetadata": {
      "byteLimit": 2048000,
      "rowLimit": 10000
     },
     "inputWidgets": {},
     "nuid": "5a3daec7-d45f-4375-90f4-88f473725397",
     "showTitle": false,
     "title": ""
    }
   },
   "outputs": [
    {
     "name": "stdout",
     "output_type": "stream",
     "text": [
      "Requirement already satisfied: transformers in /root/hackathon/oneapi-devsummit-sea-2023/itex_cpu/lib/python3.9/site-packages (4.35.2)\n",
      "Requirement already satisfied: einops in /root/hackathon/oneapi-devsummit-sea-2023/itex_cpu/lib/python3.9/site-packages (0.7.0)\n",
      "Requirement already satisfied: accelerate in /root/hackathon/oneapi-devsummit-sea-2023/itex_cpu/lib/python3.9/site-packages (0.25.0)\n",
      "Requirement already satisfied: langchain in /root/hackathon/oneapi-devsummit-sea-2023/itex_cpu/lib/python3.9/site-packages (0.0.346)\n",
      "Requirement already satisfied: bitsandbytes in /root/hackathon/oneapi-devsummit-sea-2023/itex_cpu/lib/python3.9/site-packages (0.41.2.post2)\n",
      "Requirement already satisfied: sentence_transformers in /root/hackathon/oneapi-devsummit-sea-2023/itex_cpu/lib/python3.9/site-packages (2.2.2)\n",
      "Requirement already satisfied: pypdf in /root/hackathon/oneapi-devsummit-sea-2023/itex_cpu/lib/python3.9/site-packages (3.17.1)\n",
      "Requirement already satisfied: python-dotenv in /root/hackathon/oneapi-devsummit-sea-2023/itex_cpu/lib/python3.9/site-packages (1.0.0)\n",
      "Requirement already satisfied: filelock in /root/hackathon/oneapi-devsummit-sea-2023/itex_cpu/lib/python3.9/site-packages (from transformers) (3.13.1)\n",
      "Requirement already satisfied: huggingface-hub<1.0,>=0.16.4 in /root/hackathon/oneapi-devsummit-sea-2023/itex_cpu/lib/python3.9/site-packages (from transformers) (0.19.4)\n",
      "Requirement already satisfied: numpy>=1.17 in /root/hackathon/oneapi-devsummit-sea-2023/itex_cpu/lib/python3.9/site-packages (from transformers) (1.23.5)\n",
      "Requirement already satisfied: packaging>=20.0 in /root/hackathon/oneapi-devsummit-sea-2023/itex_cpu/lib/python3.9/site-packages (from transformers) (23.2)\n",
      "Requirement already satisfied: pyyaml>=5.1 in /root/hackathon/oneapi-devsummit-sea-2023/itex_cpu/lib/python3.9/site-packages (from transformers) (6.0.1)\n",
      "Requirement already satisfied: regex!=2019.12.17 in /root/hackathon/oneapi-devsummit-sea-2023/itex_cpu/lib/python3.9/site-packages (from transformers) (2023.10.3)\n",
      "Requirement already satisfied: requests in /root/hackathon/oneapi-devsummit-sea-2023/itex_cpu/lib/python3.9/site-packages (from transformers) (2.31.0)\n",
      "Requirement already satisfied: tokenizers<0.19,>=0.14 in /root/hackathon/oneapi-devsummit-sea-2023/itex_cpu/lib/python3.9/site-packages (from transformers) (0.15.0)\n",
      "Requirement already satisfied: safetensors>=0.3.1 in /root/hackathon/oneapi-devsummit-sea-2023/itex_cpu/lib/python3.9/site-packages (from transformers) (0.4.1)\n",
      "Requirement already satisfied: tqdm>=4.27 in /root/hackathon/oneapi-devsummit-sea-2023/itex_cpu/lib/python3.9/site-packages (from transformers) (4.66.1)\n",
      "Requirement already satisfied: psutil in /root/hackathon/oneapi-devsummit-sea-2023/itex_cpu/lib/python3.9/site-packages (from accelerate) (5.9.6)\n",
      "Requirement already satisfied: torch>=1.10.0 in /root/hackathon/oneapi-devsummit-sea-2023/itex_cpu/lib/python3.9/site-packages (from accelerate) (2.1.1)\n",
      "Requirement already satisfied: SQLAlchemy<3,>=1.4 in /root/hackathon/oneapi-devsummit-sea-2023/itex_cpu/lib/python3.9/site-packages (from langchain) (2.0.23)\n",
      "Requirement already satisfied: aiohttp<4.0.0,>=3.8.3 in /root/hackathon/oneapi-devsummit-sea-2023/itex_cpu/lib/python3.9/site-packages (from langchain) (3.9.1)\n",
      "Requirement already satisfied: anyio<4.0 in /root/hackathon/oneapi-devsummit-sea-2023/itex_cpu/lib/python3.9/site-packages (from langchain) (3.7.1)\n",
      "Requirement already satisfied: async-timeout<5.0.0,>=4.0.0 in /root/hackathon/oneapi-devsummit-sea-2023/itex_cpu/lib/python3.9/site-packages (from langchain) (4.0.3)\n",
      "Requirement already satisfied: dataclasses-json<0.7,>=0.5.7 in /root/hackathon/oneapi-devsummit-sea-2023/itex_cpu/lib/python3.9/site-packages (from langchain) (0.6.3)\n",
      "Requirement already satisfied: jsonpatch<2.0,>=1.33 in /root/hackathon/oneapi-devsummit-sea-2023/itex_cpu/lib/python3.9/site-packages (from langchain) (1.33)\n",
      "Requirement already satisfied: langchain-core<0.1,>=0.0.10 in /root/hackathon/oneapi-devsummit-sea-2023/itex_cpu/lib/python3.9/site-packages (from langchain) (0.0.10)\n",
      "Requirement already satisfied: langsmith<0.1.0,>=0.0.63 in /root/hackathon/oneapi-devsummit-sea-2023/itex_cpu/lib/python3.9/site-packages (from langchain) (0.0.69)\n",
      "Requirement already satisfied: pydantic<3,>=1 in /root/hackathon/oneapi-devsummit-sea-2023/itex_cpu/lib/python3.9/site-packages (from langchain) (2.5.2)\n",
      "Requirement already satisfied: tenacity<9.0.0,>=8.1.0 in /root/hackathon/oneapi-devsummit-sea-2023/itex_cpu/lib/python3.9/site-packages (from langchain) (8.2.3)\n",
      "Requirement already satisfied: torchvision in /root/hackathon/oneapi-devsummit-sea-2023/itex_cpu/lib/python3.9/site-packages (from sentence_transformers) (0.16.1)\n",
      "Requirement already satisfied: scikit-learn in /root/hackathon/oneapi-devsummit-sea-2023/itex_cpu/lib/python3.9/site-packages (from sentence_transformers) (1.3.2)\n",
      "Requirement already satisfied: scipy in /root/hackathon/oneapi-devsummit-sea-2023/itex_cpu/lib/python3.9/site-packages (from sentence_transformers) (1.11.4)\n",
      "Requirement already satisfied: nltk in /root/hackathon/oneapi-devsummit-sea-2023/itex_cpu/lib/python3.9/site-packages (from sentence_transformers) (3.8.1)\n",
      "Requirement already satisfied: sentencepiece in /root/hackathon/oneapi-devsummit-sea-2023/itex_cpu/lib/python3.9/site-packages (from sentence_transformers) (0.1.99)\n",
      "Requirement already satisfied: typing_extensions>=3.7.4.3 in /root/hackathon/oneapi-devsummit-sea-2023/itex_cpu/lib/python3.9/site-packages (from pypdf) (4.8.0)\n",
      "Requirement already satisfied: attrs>=17.3.0 in /root/hackathon/oneapi-devsummit-sea-2023/itex_cpu/lib/python3.9/site-packages (from aiohttp<4.0.0,>=3.8.3->langchain) (23.1.0)\n",
      "Requirement already satisfied: multidict<7.0,>=4.5 in /root/hackathon/oneapi-devsummit-sea-2023/itex_cpu/lib/python3.9/site-packages (from aiohttp<4.0.0,>=3.8.3->langchain) (6.0.4)\n",
      "Requirement already satisfied: yarl<2.0,>=1.0 in /root/hackathon/oneapi-devsummit-sea-2023/itex_cpu/lib/python3.9/site-packages (from aiohttp<4.0.0,>=3.8.3->langchain) (1.9.3)\n",
      "Requirement already satisfied: frozenlist>=1.1.1 in /root/hackathon/oneapi-devsummit-sea-2023/itex_cpu/lib/python3.9/site-packages (from aiohttp<4.0.0,>=3.8.3->langchain) (1.4.0)\n",
      "Requirement already satisfied: aiosignal>=1.1.2 in /root/hackathon/oneapi-devsummit-sea-2023/itex_cpu/lib/python3.9/site-packages (from aiohttp<4.0.0,>=3.8.3->langchain) (1.3.1)\n",
      "Requirement already satisfied: idna>=2.8 in /root/hackathon/oneapi-devsummit-sea-2023/itex_cpu/lib/python3.9/site-packages (from anyio<4.0->langchain) (3.6)\n",
      "Requirement already satisfied: sniffio>=1.1 in /root/hackathon/oneapi-devsummit-sea-2023/itex_cpu/lib/python3.9/site-packages (from anyio<4.0->langchain) (1.3.0)\n",
      "Requirement already satisfied: exceptiongroup in /root/hackathon/oneapi-devsummit-sea-2023/itex_cpu/lib/python3.9/site-packages (from anyio<4.0->langchain) (1.2.0)\n",
      "Requirement already satisfied: marshmallow<4.0.0,>=3.18.0 in /root/hackathon/oneapi-devsummit-sea-2023/itex_cpu/lib/python3.9/site-packages (from dataclasses-json<0.7,>=0.5.7->langchain) (3.20.1)\n",
      "Requirement already satisfied: typing-inspect<1,>=0.4.0 in /root/hackathon/oneapi-devsummit-sea-2023/itex_cpu/lib/python3.9/site-packages (from dataclasses-json<0.7,>=0.5.7->langchain) (0.9.0)\n",
      "Requirement already satisfied: fsspec>=2023.5.0 in /root/hackathon/oneapi-devsummit-sea-2023/itex_cpu/lib/python3.9/site-packages (from huggingface-hub<1.0,>=0.16.4->transformers) (2023.12.1)\n",
      "Requirement already satisfied: jsonpointer>=1.9 in /root/hackathon/oneapi-devsummit-sea-2023/itex_cpu/lib/python3.9/site-packages (from jsonpatch<2.0,>=1.33->langchain) (2.4)\n",
      "Requirement already satisfied: annotated-types>=0.4.0 in /root/hackathon/oneapi-devsummit-sea-2023/itex_cpu/lib/python3.9/site-packages (from pydantic<3,>=1->langchain) (0.6.0)\n",
      "Requirement already satisfied: pydantic-core==2.14.5 in /root/hackathon/oneapi-devsummit-sea-2023/itex_cpu/lib/python3.9/site-packages (from pydantic<3,>=1->langchain) (2.14.5)\n",
      "Requirement already satisfied: charset-normalizer<4,>=2 in /root/hackathon/oneapi-devsummit-sea-2023/itex_cpu/lib/python3.9/site-packages (from requests->transformers) (3.3.2)\n",
      "Requirement already satisfied: urllib3<3,>=1.21.1 in /root/hackathon/oneapi-devsummit-sea-2023/itex_cpu/lib/python3.9/site-packages (from requests->transformers) (1.26.18)\n",
      "Requirement already satisfied: certifi>=2017.4.17 in /root/hackathon/oneapi-devsummit-sea-2023/itex_cpu/lib/python3.9/site-packages (from requests->transformers) (2023.11.17)\n",
      "Requirement already satisfied: greenlet!=0.4.17 in /root/hackathon/oneapi-devsummit-sea-2023/itex_cpu/lib/python3.9/site-packages (from SQLAlchemy<3,>=1.4->langchain) (3.0.1)\n",
      "Requirement already satisfied: sympy in /root/hackathon/oneapi-devsummit-sea-2023/itex_cpu/lib/python3.9/site-packages (from torch>=1.10.0->accelerate) (1.12)\n",
      "Requirement already satisfied: networkx in /root/hackathon/oneapi-devsummit-sea-2023/itex_cpu/lib/python3.9/site-packages (from torch>=1.10.0->accelerate) (3.2.1)\n",
      "Requirement already satisfied: jinja2 in /root/hackathon/oneapi-devsummit-sea-2023/itex_cpu/lib/python3.9/site-packages (from torch>=1.10.0->accelerate) (3.1.2)\n",
      "Requirement already satisfied: nvidia-cuda-nvrtc-cu12==12.1.105 in /root/hackathon/oneapi-devsummit-sea-2023/itex_cpu/lib/python3.9/site-packages (from torch>=1.10.0->accelerate) (12.1.105)\n",
      "Requirement already satisfied: nvidia-cuda-runtime-cu12==12.1.105 in /root/hackathon/oneapi-devsummit-sea-2023/itex_cpu/lib/python3.9/site-packages (from torch>=1.10.0->accelerate) (12.1.105)\n",
      "Requirement already satisfied: nvidia-cuda-cupti-cu12==12.1.105 in /root/hackathon/oneapi-devsummit-sea-2023/itex_cpu/lib/python3.9/site-packages (from torch>=1.10.0->accelerate) (12.1.105)\n",
      "Requirement already satisfied: nvidia-cudnn-cu12==8.9.2.26 in /root/hackathon/oneapi-devsummit-sea-2023/itex_cpu/lib/python3.9/site-packages (from torch>=1.10.0->accelerate) (8.9.2.26)\n",
      "Requirement already satisfied: nvidia-cublas-cu12==12.1.3.1 in /root/hackathon/oneapi-devsummit-sea-2023/itex_cpu/lib/python3.9/site-packages (from torch>=1.10.0->accelerate) (12.1.3.1)\n",
      "Requirement already satisfied: nvidia-cufft-cu12==11.0.2.54 in /root/hackathon/oneapi-devsummit-sea-2023/itex_cpu/lib/python3.9/site-packages (from torch>=1.10.0->accelerate) (11.0.2.54)\n",
      "Requirement already satisfied: nvidia-curand-cu12==10.3.2.106 in /root/hackathon/oneapi-devsummit-sea-2023/itex_cpu/lib/python3.9/site-packages (from torch>=1.10.0->accelerate) (10.3.2.106)\n",
      "Requirement already satisfied: nvidia-cusolver-cu12==11.4.5.107 in /root/hackathon/oneapi-devsummit-sea-2023/itex_cpu/lib/python3.9/site-packages (from torch>=1.10.0->accelerate) (11.4.5.107)\n",
      "Requirement already satisfied: nvidia-cusparse-cu12==12.1.0.106 in /root/hackathon/oneapi-devsummit-sea-2023/itex_cpu/lib/python3.9/site-packages (from torch>=1.10.0->accelerate) (12.1.0.106)\n",
      "Requirement already satisfied: nvidia-nccl-cu12==2.18.1 in /root/hackathon/oneapi-devsummit-sea-2023/itex_cpu/lib/python3.9/site-packages (from torch>=1.10.0->accelerate) (2.18.1)\n",
      "Requirement already satisfied: nvidia-nvtx-cu12==12.1.105 in /root/hackathon/oneapi-devsummit-sea-2023/itex_cpu/lib/python3.9/site-packages (from torch>=1.10.0->accelerate) (12.1.105)\n",
      "Requirement already satisfied: triton==2.1.0 in /root/hackathon/oneapi-devsummit-sea-2023/itex_cpu/lib/python3.9/site-packages (from torch>=1.10.0->accelerate) (2.1.0)\n",
      "Requirement already satisfied: nvidia-nvjitlink-cu12 in /root/hackathon/oneapi-devsummit-sea-2023/itex_cpu/lib/python3.9/site-packages (from nvidia-cusolver-cu12==11.4.5.107->torch>=1.10.0->accelerate) (12.3.101)\n",
      "Requirement already satisfied: click in /root/hackathon/oneapi-devsummit-sea-2023/itex_cpu/lib/python3.9/site-packages (from nltk->sentence_transformers) (8.1.7)\n",
      "Requirement already satisfied: joblib in /root/hackathon/oneapi-devsummit-sea-2023/itex_cpu/lib/python3.9/site-packages (from nltk->sentence_transformers) (1.3.2)\n",
      "Requirement already satisfied: threadpoolctl>=2.0.0 in /root/hackathon/oneapi-devsummit-sea-2023/itex_cpu/lib/python3.9/site-packages (from scikit-learn->sentence_transformers) (3.2.0)\n",
      "Requirement already satisfied: pillow!=8.3.*,>=5.3.0 in /root/hackathon/oneapi-devsummit-sea-2023/itex_cpu/lib/python3.9/site-packages (from torchvision->sentence_transformers) (10.1.0)\n",
      "Requirement already satisfied: mypy-extensions>=0.3.0 in /root/hackathon/oneapi-devsummit-sea-2023/itex_cpu/lib/python3.9/site-packages (from typing-inspect<1,>=0.4.0->dataclasses-json<0.7,>=0.5.7->langchain) (1.0.0)\n",
      "Requirement already satisfied: MarkupSafe>=2.0 in /root/hackathon/oneapi-devsummit-sea-2023/itex_cpu/lib/python3.9/site-packages (from jinja2->torch>=1.10.0->accelerate) (2.1.3)\n",
      "Requirement already satisfied: mpmath>=0.19 in /root/hackathon/oneapi-devsummit-sea-2023/itex_cpu/lib/python3.9/site-packages (from sympy->torch>=1.10.0->accelerate) (1.3.0)\n"
     ]
    }
   ],
   "source": [
    "!pip install transformers einops accelerate langchain bitsandbytes sentence_transformers pypdf python-dotenv"
   ]
  },
  {
   "cell_type": "code",
   "execution_count": 2,
   "metadata": {
    "application/vnd.databricks.v1+cell": {
     "cellMetadata": {
      "byteLimit": 2048000,
      "rowLimit": 10000
     },
     "inputWidgets": {},
     "nuid": "aca711b3-a8a5-445c-9ab4-e4275f4598b8",
     "showTitle": false,
     "title": ""
    }
   },
   "outputs": [
    {
     "name": "stdout",
     "output_type": "stream",
     "text": [
      "Collecting typing-extensions==4.5.0\n",
      "  Using cached typing_extensions-4.5.0-py3-none-any.whl (27 kB)\n",
      "Requirement already satisfied: llama-index in /root/hackathon/oneapi-devsummit-sea-2023/itex_cpu/lib/python3.9/site-packages (0.8.2)\n",
      "Requirement already satisfied: tiktoken in /root/hackathon/oneapi-devsummit-sea-2023/itex_cpu/lib/python3.9/site-packages (from llama-index) (0.5.2)\n",
      "Requirement already satisfied: dataclasses-json in /root/hackathon/oneapi-devsummit-sea-2023/itex_cpu/lib/python3.9/site-packages (from llama-index) (0.6.3)\n",
      "Requirement already satisfied: langchain>=0.0.262 in /root/hackathon/oneapi-devsummit-sea-2023/itex_cpu/lib/python3.9/site-packages (from llama-index) (0.0.346)\n",
      "Requirement already satisfied: sqlalchemy>=2.0.15 in /root/hackathon/oneapi-devsummit-sea-2023/itex_cpu/lib/python3.9/site-packages (from llama-index) (2.0.23)\n",
      "Requirement already satisfied: numpy in /root/hackathon/oneapi-devsummit-sea-2023/itex_cpu/lib/python3.9/site-packages (from llama-index) (1.23.5)\n",
      "Requirement already satisfied: tenacity<9.0.0,>=8.2.0 in /root/hackathon/oneapi-devsummit-sea-2023/itex_cpu/lib/python3.9/site-packages (from llama-index) (8.2.3)\n",
      "Requirement already satisfied: openai>=0.26.4 in /root/hackathon/oneapi-devsummit-sea-2023/itex_cpu/lib/python3.9/site-packages (from llama-index) (1.3.7)\n",
      "Requirement already satisfied: pandas in /root/hackathon/oneapi-devsummit-sea-2023/itex_cpu/lib/python3.9/site-packages (from llama-index) (2.1.3)\n",
      "Requirement already satisfied: urllib3<2 in /root/hackathon/oneapi-devsummit-sea-2023/itex_cpu/lib/python3.9/site-packages (from llama-index) (1.26.18)\n",
      "Requirement already satisfied: fsspec>=2023.5.0 in /root/hackathon/oneapi-devsummit-sea-2023/itex_cpu/lib/python3.9/site-packages (from llama-index) (2023.12.1)\n",
      "Requirement already satisfied: typing-inspect>=0.8.0 in /root/hackathon/oneapi-devsummit-sea-2023/itex_cpu/lib/python3.9/site-packages (from llama-index) (0.9.0)\n",
      "Requirement already satisfied: beautifulsoup4 in /root/hackathon/oneapi-devsummit-sea-2023/itex_cpu/lib/python3.9/site-packages (from llama-index) (4.12.2)\n",
      "Requirement already satisfied: nest-asyncio in /root/hackathon/oneapi-devsummit-sea-2023/itex_cpu/lib/python3.9/site-packages (from llama-index) (1.5.8)\n",
      "Requirement already satisfied: PyYAML>=5.3 in /root/hackathon/oneapi-devsummit-sea-2023/itex_cpu/lib/python3.9/site-packages (from langchain>=0.0.262->llama-index) (6.0.1)\n",
      "Requirement already satisfied: aiohttp<4.0.0,>=3.8.3 in /root/hackathon/oneapi-devsummit-sea-2023/itex_cpu/lib/python3.9/site-packages (from langchain>=0.0.262->llama-index) (3.9.1)\n",
      "Requirement already satisfied: anyio<4.0 in /root/hackathon/oneapi-devsummit-sea-2023/itex_cpu/lib/python3.9/site-packages (from langchain>=0.0.262->llama-index) (3.7.1)\n",
      "Requirement already satisfied: async-timeout<5.0.0,>=4.0.0 in /root/hackathon/oneapi-devsummit-sea-2023/itex_cpu/lib/python3.9/site-packages (from langchain>=0.0.262->llama-index) (4.0.3)\n",
      "Requirement already satisfied: jsonpatch<2.0,>=1.33 in /root/hackathon/oneapi-devsummit-sea-2023/itex_cpu/lib/python3.9/site-packages (from langchain>=0.0.262->llama-index) (1.33)\n",
      "Requirement already satisfied: langchain-core<0.1,>=0.0.10 in /root/hackathon/oneapi-devsummit-sea-2023/itex_cpu/lib/python3.9/site-packages (from langchain>=0.0.262->llama-index) (0.0.10)\n",
      "Requirement already satisfied: langsmith<0.1.0,>=0.0.63 in /root/hackathon/oneapi-devsummit-sea-2023/itex_cpu/lib/python3.9/site-packages (from langchain>=0.0.262->llama-index) (0.0.69)\n",
      "Requirement already satisfied: pydantic<3,>=1 in /root/hackathon/oneapi-devsummit-sea-2023/itex_cpu/lib/python3.9/site-packages (from langchain>=0.0.262->llama-index) (2.5.2)\n",
      "Requirement already satisfied: requests<3,>=2 in /root/hackathon/oneapi-devsummit-sea-2023/itex_cpu/lib/python3.9/site-packages (from langchain>=0.0.262->llama-index) (2.31.0)\n",
      "Requirement already satisfied: marshmallow<4.0.0,>=3.18.0 in /root/hackathon/oneapi-devsummit-sea-2023/itex_cpu/lib/python3.9/site-packages (from dataclasses-json->llama-index) (3.20.1)\n",
      "Requirement already satisfied: distro<2,>=1.7.0 in /root/hackathon/oneapi-devsummit-sea-2023/itex_cpu/lib/python3.9/site-packages (from openai>=0.26.4->llama-index) (1.8.0)\n",
      "Requirement already satisfied: httpx<1,>=0.23.0 in /root/hackathon/oneapi-devsummit-sea-2023/itex_cpu/lib/python3.9/site-packages (from openai>=0.26.4->llama-index) (0.25.2)\n",
      "Requirement already satisfied: sniffio in /root/hackathon/oneapi-devsummit-sea-2023/itex_cpu/lib/python3.9/site-packages (from openai>=0.26.4->llama-index) (1.3.0)\n",
      "Requirement already satisfied: tqdm>4 in /root/hackathon/oneapi-devsummit-sea-2023/itex_cpu/lib/python3.9/site-packages (from openai>=0.26.4->llama-index) (4.66.1)\n",
      "Requirement already satisfied: greenlet!=0.4.17 in /root/hackathon/oneapi-devsummit-sea-2023/itex_cpu/lib/python3.9/site-packages (from sqlalchemy>=2.0.15->llama-index) (3.0.1)\n",
      "Requirement already satisfied: mypy-extensions>=0.3.0 in /root/hackathon/oneapi-devsummit-sea-2023/itex_cpu/lib/python3.9/site-packages (from typing-inspect>=0.8.0->llama-index) (1.0.0)\n",
      "Requirement already satisfied: soupsieve>1.2 in /root/hackathon/oneapi-devsummit-sea-2023/itex_cpu/lib/python3.9/site-packages (from beautifulsoup4->llama-index) (2.5)\n",
      "Requirement already satisfied: python-dateutil>=2.8.2 in /root/hackathon/oneapi-devsummit-sea-2023/itex_cpu/lib/python3.9/site-packages (from pandas->llama-index) (2.8.2)\n",
      "Requirement already satisfied: pytz>=2020.1 in /root/hackathon/oneapi-devsummit-sea-2023/itex_cpu/lib/python3.9/site-packages (from pandas->llama-index) (2023.3.post1)\n",
      "Requirement already satisfied: tzdata>=2022.1 in /root/hackathon/oneapi-devsummit-sea-2023/itex_cpu/lib/python3.9/site-packages (from pandas->llama-index) (2023.3)\n",
      "Requirement already satisfied: regex>=2022.1.18 in /root/hackathon/oneapi-devsummit-sea-2023/itex_cpu/lib/python3.9/site-packages (from tiktoken->llama-index) (2023.10.3)\n",
      "Requirement already satisfied: attrs>=17.3.0 in /root/hackathon/oneapi-devsummit-sea-2023/itex_cpu/lib/python3.9/site-packages (from aiohttp<4.0.0,>=3.8.3->langchain>=0.0.262->llama-index) (23.1.0)\n",
      "Requirement already satisfied: multidict<7.0,>=4.5 in /root/hackathon/oneapi-devsummit-sea-2023/itex_cpu/lib/python3.9/site-packages (from aiohttp<4.0.0,>=3.8.3->langchain>=0.0.262->llama-index) (6.0.4)\n",
      "Requirement already satisfied: yarl<2.0,>=1.0 in /root/hackathon/oneapi-devsummit-sea-2023/itex_cpu/lib/python3.9/site-packages (from aiohttp<4.0.0,>=3.8.3->langchain>=0.0.262->llama-index) (1.9.3)\n",
      "Requirement already satisfied: frozenlist>=1.1.1 in /root/hackathon/oneapi-devsummit-sea-2023/itex_cpu/lib/python3.9/site-packages (from aiohttp<4.0.0,>=3.8.3->langchain>=0.0.262->llama-index) (1.4.0)\n",
      "Requirement already satisfied: aiosignal>=1.1.2 in /root/hackathon/oneapi-devsummit-sea-2023/itex_cpu/lib/python3.9/site-packages (from aiohttp<4.0.0,>=3.8.3->langchain>=0.0.262->llama-index) (1.3.1)\n",
      "Requirement already satisfied: idna>=2.8 in /root/hackathon/oneapi-devsummit-sea-2023/itex_cpu/lib/python3.9/site-packages (from anyio<4.0->langchain>=0.0.262->llama-index) (3.6)\n",
      "Requirement already satisfied: exceptiongroup in /root/hackathon/oneapi-devsummit-sea-2023/itex_cpu/lib/python3.9/site-packages (from anyio<4.0->langchain>=0.0.262->llama-index) (1.2.0)\n",
      "Requirement already satisfied: certifi in /root/hackathon/oneapi-devsummit-sea-2023/itex_cpu/lib/python3.9/site-packages (from httpx<1,>=0.23.0->openai>=0.26.4->llama-index) (2023.11.17)\n",
      "Requirement already satisfied: httpcore==1.* in /root/hackathon/oneapi-devsummit-sea-2023/itex_cpu/lib/python3.9/site-packages (from httpx<1,>=0.23.0->openai>=0.26.4->llama-index) (1.0.2)\n",
      "Requirement already satisfied: h11<0.15,>=0.13 in /root/hackathon/oneapi-devsummit-sea-2023/itex_cpu/lib/python3.9/site-packages (from httpcore==1.*->httpx<1,>=0.23.0->openai>=0.26.4->llama-index) (0.14.0)\n",
      "Requirement already satisfied: jsonpointer>=1.9 in /root/hackathon/oneapi-devsummit-sea-2023/itex_cpu/lib/python3.9/site-packages (from jsonpatch<2.0,>=1.33->langchain>=0.0.262->llama-index) (2.4)\n",
      "Requirement already satisfied: packaging>=17.0 in /root/hackathon/oneapi-devsummit-sea-2023/itex_cpu/lib/python3.9/site-packages (from marshmallow<4.0.0,>=3.18.0->dataclasses-json->llama-index) (23.2)\n",
      "Requirement already satisfied: annotated-types>=0.4.0 in /root/hackathon/oneapi-devsummit-sea-2023/itex_cpu/lib/python3.9/site-packages (from pydantic<3,>=1->langchain>=0.0.262->llama-index) (0.6.0)\n",
      "Requirement already satisfied: pydantic-core==2.14.5 in /root/hackathon/oneapi-devsummit-sea-2023/itex_cpu/lib/python3.9/site-packages (from pydantic<3,>=1->langchain>=0.0.262->llama-index) (2.14.5)\n",
      "INFO: pip is looking at multiple versions of pydantic to determine which version is compatible with other requirements. This could take a while.\n",
      "Collecting pydantic<3,>=1 (from langchain>=0.0.262->llama-index)\n",
      "  Downloading pydantic-2.5.1-py3-none-any.whl.metadata (64 kB)\n",
      "\u001b[2K     \u001b[90m━━━━━━━━━━━━━━━━━━━━━━━━━━━━━━━━━━━━━━━━\u001b[0m \u001b[32m64.1/64.1 kB\u001b[0m \u001b[31m1.1 MB/s\u001b[0m eta \u001b[36m0:00:00\u001b[0mta \u001b[36m0:00:01\u001b[0m\n",
      "\u001b[?25hCollecting pydantic-core==2.14.3 (from pydantic<3,>=1->langchain>=0.0.262->llama-index)\n",
      "  Downloading pydantic_core-2.14.3-cp39-cp39-manylinux_2_17_x86_64.manylinux2014_x86_64.whl.metadata (6.5 kB)\n",
      "Collecting pydantic<3,>=1 (from langchain>=0.0.262->llama-index)\n",
      "  Downloading pydantic-2.5.0-py3-none-any.whl.metadata (174 kB)\n",
      "\u001b[2K     \u001b[90m━━━━━━━━━━━━━━━━━━━━━━━━━━━━━━━━━━━━━━━\u001b[0m \u001b[32m174.6/174.6 kB\u001b[0m \u001b[31m3.4 MB/s\u001b[0m eta \u001b[36m0:00:00\u001b[0m00:01\u001b[0m\n",
      "\u001b[?25hCollecting pydantic-core==2.14.1 (from pydantic<3,>=1->langchain>=0.0.262->llama-index)\n",
      "  Downloading pydantic_core-2.14.1-cp39-cp39-manylinux_2_17_x86_64.manylinux2014_x86_64.whl.metadata (6.5 kB)\n",
      "Collecting pydantic<3,>=1 (from langchain>=0.0.262->llama-index)\n",
      "  Downloading pydantic-2.4.2-py3-none-any.whl.metadata (158 kB)\n",
      "\u001b[2K     \u001b[90m━━━━━━━━━━━━━━━━━━━━━━━━━━━━━━━━━━━━━━━\u001b[0m \u001b[32m158.6/158.6 kB\u001b[0m \u001b[31m3.2 MB/s\u001b[0m eta \u001b[36m0:00:00\u001b[0ma \u001b[36m0:00:01\u001b[0m\n",
      "\u001b[?25hCollecting pydantic-core==2.10.1 (from pydantic<3,>=1->langchain>=0.0.262->llama-index)\n",
      "  Downloading pydantic_core-2.10.1-cp39-cp39-manylinux_2_17_x86_64.manylinux2014_x86_64.whl.metadata (6.5 kB)\n",
      "Collecting pydantic<3,>=1 (from langchain>=0.0.262->llama-index)\n",
      "  Downloading pydantic-2.4.1-py3-none-any.whl.metadata (157 kB)\n",
      "\u001b[2K     \u001b[90m━━━━━━━━━━━━━━━━━━━━━━━━━━━━━━━━━━━━━━━\u001b[0m \u001b[32m157.1/157.1 kB\u001b[0m \u001b[31m3.1 MB/s\u001b[0m eta \u001b[36m0:00:00\u001b[0m00:01\u001b[0m\n",
      "\u001b[?25h  Downloading pydantic-2.4.0-py3-none-any.whl.metadata (156 kB)\n",
      "\u001b[2K     \u001b[90m━━━━━━━━━━━━━━━━━━━━━━━━━━━━━━━━━━━━━━━\u001b[0m \u001b[32m156.4/156.4 kB\u001b[0m \u001b[31m3.1 MB/s\u001b[0m eta \u001b[36m0:00:00\u001b[0m00:01\u001b[0m\n",
      "\u001b[?25hCollecting pydantic-core==2.10.0 (from pydantic<3,>=1->langchain>=0.0.262->llama-index)\n",
      "  Downloading pydantic_core-2.10.0-cp39-cp39-manylinux_2_17_x86_64.manylinux2014_x86_64.whl.metadata (6.5 kB)\n",
      "Collecting pydantic<3,>=1 (from langchain>=0.0.262->llama-index)\n",
      "  Downloading pydantic-2.3.0-py3-none-any.whl.metadata (148 kB)\n",
      "\u001b[2K     \u001b[90m━━━━━━━━━━━━━━━━━━━━━━━━━━━━━━━━━━━━━━━\u001b[0m \u001b[32m148.8/148.8 kB\u001b[0m \u001b[31m3.0 MB/s\u001b[0m eta \u001b[36m0:00:00\u001b[0ma \u001b[36m0:00:01\u001b[0m\n",
      "\u001b[?25hCollecting pydantic-core==2.6.3 (from pydantic<3,>=1->langchain>=0.0.262->llama-index)\n",
      "  Downloading pydantic_core-2.6.3-cp39-cp39-manylinux_2_17_x86_64.manylinux2014_x86_64.whl.metadata (6.5 kB)\n",
      "Collecting pydantic<3,>=1 (from langchain>=0.0.262->llama-index)\n",
      "  Downloading pydantic-2.2.1-py3-none-any.whl.metadata (145 kB)\n",
      "\u001b[2K     \u001b[90m━━━━━━━━━━━━━━━━━━━━━━━━━━━━━━━━━━━━━━━\u001b[0m \u001b[32m145.6/145.6 kB\u001b[0m \u001b[31m3.0 MB/s\u001b[0m eta \u001b[36m0:00:00\u001b[0m00:01\u001b[0m\n",
      "\u001b[?25hCollecting pydantic-core==2.6.1 (from pydantic<3,>=1->langchain>=0.0.262->llama-index)\n",
      "  Downloading pydantic_core-2.6.1-cp39-cp39-manylinux_2_17_x86_64.manylinux2014_x86_64.whl.metadata (6.5 kB)\n",
      "INFO: pip is still looking at multiple versions of pydantic to determine which version is compatible with other requirements. This could take a while.\n",
      "Collecting pydantic<3,>=1 (from langchain>=0.0.262->llama-index)\n",
      "  Downloading pydantic-2.2.0-py3-none-any.whl.metadata (145 kB)\n",
      "\u001b[2K     \u001b[90m━━━━━━━━━━━━━━━━━━━━━━━━━━━━━━━━━━━━━━━\u001b[0m \u001b[32m145.6/145.6 kB\u001b[0m \u001b[31m2.7 MB/s\u001b[0m eta \u001b[36m0:00:00\u001b[0m00:01\u001b[0m\n",
      "\u001b[?25hCollecting pydantic-core==2.6.0 (from pydantic<3,>=1->langchain>=0.0.262->llama-index)\n",
      "  Downloading pydantic_core-2.6.0-cp39-cp39-manylinux_2_17_x86_64.manylinux2014_x86_64.whl.metadata (6.5 kB)\n",
      "Collecting pydantic<3,>=1 (from langchain>=0.0.262->llama-index)\n",
      "  Downloading pydantic-2.1.1-py3-none-any.whl.metadata (136 kB)\n",
      "\u001b[2K     \u001b[90m━━━━━━━━━━━━━━━━━━━━━━━━━━━━━━━━━━━━━━━\u001b[0m \u001b[32m136.5/136.5 kB\u001b[0m \u001b[31m2.9 MB/s\u001b[0m eta \u001b[36m0:00:00\u001b[0m00:01\u001b[0m\n",
      "\u001b[?25hCollecting pydantic-core==2.4.0 (from pydantic<3,>=1->langchain>=0.0.262->llama-index)\n",
      "  Downloading pydantic_core-2.4.0-cp39-cp39-manylinux_2_17_x86_64.manylinux2014_x86_64.whl.metadata (6.5 kB)\n",
      "Collecting pydantic<3,>=1 (from langchain>=0.0.262->llama-index)\n",
      "  Downloading pydantic-2.1.0-py3-none-any.whl.metadata (136 kB)\n",
      "\u001b[2K     \u001b[90m━━━━━━━━━━━━━━━━━━━━━━━━━━━━━━━━━━━━━━━\u001b[0m \u001b[32m136.2/136.2 kB\u001b[0m \u001b[31m2.7 MB/s\u001b[0m eta \u001b[36m0:00:00\u001b[0m00:01\u001b[0m\n",
      "\u001b[?25h  Downloading pydantic-2.0.3-py3-none-any.whl.metadata (128 kB)\n",
      "\u001b[2K     \u001b[90m━━━━━━━━━━━━━━━━━━━━━━━━━━━━━━━━━━━━━━━\u001b[0m \u001b[32m128.2/128.2 kB\u001b[0m \u001b[31m2.6 MB/s\u001b[0m eta \u001b[36m0:00:00\u001b[0ma \u001b[36m0:00:01\u001b[0m\n",
      "\u001b[?25hCollecting pydantic-core==2.3.0 (from pydantic<3,>=1->langchain>=0.0.262->llama-index)\n",
      "  Downloading pydantic_core-2.3.0-cp39-cp39-manylinux_2_17_x86_64.manylinux2014_x86_64.whl.metadata (5.1 kB)\n",
      "Collecting pydantic<3,>=1 (from langchain>=0.0.262->llama-index)\n",
      "  Downloading pydantic-2.0.2-py3-none-any.whl.metadata (119 kB)\n",
      "\u001b[2K     \u001b[90m━━━━━━━━━━━━━━━━━━━━━━━━━━━━━━━━━━━━━━━\u001b[0m \u001b[32m120.0/120.0 kB\u001b[0m \u001b[31m2.4 MB/s\u001b[0m eta \u001b[36m0:00:00\u001b[0ma \u001b[36m0:00:01\u001b[0m\n",
      "\u001b[?25hCollecting pydantic-core==2.1.2 (from pydantic<3,>=1->langchain>=0.0.262->llama-index)\n",
      "  Downloading pydantic_core-2.1.2-cp39-cp39-manylinux_2_17_x86_64.manylinux2014_x86_64.whl.metadata (5.1 kB)\n",
      "INFO: This is taking longer than usual. You might need to provide the dependency resolver with stricter constraints to reduce runtime. See https://pip.pypa.io/warnings/backtracking for guidance. If you want to abort this run, press Ctrl + C.\n",
      "Collecting pydantic<3,>=1 (from langchain>=0.0.262->llama-index)\n",
      "  Downloading pydantic-2.0.1-py3-none-any.whl.metadata (119 kB)\n",
      "\u001b[2K     \u001b[90m━━━━━━━━━━━━━━━━━━━━━━━━━━━━━━━━━━━━━━━\u001b[0m \u001b[32m119.0/119.0 kB\u001b[0m \u001b[31m2.3 MB/s\u001b[0m eta \u001b[36m0:00:00\u001b[0ma \u001b[36m0:00:01\u001b[0m\n",
      "\u001b[?25hCollecting pydantic-core==2.0.2 (from pydantic<3,>=1->langchain>=0.0.262->llama-index)\n",
      "  Downloading pydantic_core-2.0.2-cp39-cp39-manylinux_2_17_x86_64.manylinux2014_x86_64.whl.metadata (5.1 kB)\n",
      "Collecting pydantic<3,>=1 (from langchain>=0.0.262->llama-index)\n",
      "  Downloading pydantic-2.0-py3-none-any.whl.metadata (117 kB)\n",
      "\u001b[2K     \u001b[90m━━━━━━━━━━━━━━━━━━━━━━━━━━━━━━━━━━━━━━━\u001b[0m \u001b[32m118.0/118.0 kB\u001b[0m \u001b[31m2.3 MB/s\u001b[0m eta \u001b[36m0:00:00\u001b[0ma \u001b[36m0:00:01\u001b[0m\n",
      "\u001b[?25hCollecting pydantic-core==2.0.1 (from pydantic<3,>=1->langchain>=0.0.262->llama-index)\n",
      "  Downloading pydantic_core-2.0.1-cp39-cp39-manylinux_2_17_x86_64.manylinux2014_x86_64.whl.metadata (5.2 kB)\n",
      "Collecting pydantic<3,>=1 (from langchain>=0.0.262->llama-index)\n",
      "  Downloading pydantic-1.10.13-cp39-cp39-manylinux_2_17_x86_64.manylinux2014_x86_64.whl.metadata (149 kB)\n",
      "\u001b[2K     \u001b[90m━━━━━━━━━━━━━━━━━━━━━━━━━━━━━━━━━━━━━━━\u001b[0m \u001b[32m149.6/149.6 kB\u001b[0m \u001b[31m3.0 MB/s\u001b[0m eta \u001b[36m0:00:00\u001b[0ma \u001b[36m0:00:01\u001b[0m\n",
      "\u001b[?25hRequirement already satisfied: six>=1.5 in /root/hackathon/oneapi-devsummit-sea-2023/itex_cpu/lib/python3.9/site-packages (from python-dateutil>=2.8.2->pandas->llama-index) (1.16.0)\n",
      "Requirement already satisfied: charset-normalizer<4,>=2 in /root/hackathon/oneapi-devsummit-sea-2023/itex_cpu/lib/python3.9/site-packages (from requests<3,>=2->langchain>=0.0.262->llama-index) (3.3.2)\n",
      "Downloading pydantic-1.10.13-cp39-cp39-manylinux_2_17_x86_64.manylinux2014_x86_64.whl (3.2 MB)\n",
      "\u001b[2K   \u001b[90m━━━━━━━━━━━━━━━━━━━━━━━━━━━━━━━━━━━━━━━━\u001b[0m \u001b[32m3.2/3.2 MB\u001b[0m \u001b[31m31.7 MB/s\u001b[0m eta \u001b[36m0:00:00\u001b[0m:00:01\u001b[0m\n",
      "\u001b[?25hInstalling collected packages: typing-extensions, pydantic\n",
      "  Attempting uninstall: typing-extensions\n",
      "    Found existing installation: typing_extensions 4.8.0\n",
      "    Uninstalling typing_extensions-4.8.0:\n",
      "      Successfully uninstalled typing_extensions-4.8.0\n",
      "  Attempting uninstall: pydantic\n",
      "    Found existing installation: pydantic 2.5.2\n",
      "    Uninstalling pydantic-2.5.2:\n",
      "      Successfully uninstalled pydantic-2.5.2\n",
      "\u001b[31mERROR: pip's dependency resolver does not currently take into account all the packages that are installed. This behaviour is the source of the following dependency conflicts.\n",
      "pydantic-core 2.14.5 requires typing-extensions!=4.7.0,>=4.6.0, but you have typing-extensions 4.5.0 which is incompatible.\u001b[0m\u001b[31m\n",
      "\u001b[0mSuccessfully installed pydantic-1.10.13 typing-extensions-4.5.0\n"
     ]
    }
   ],
   "source": [
    "!pip install typing-extensions==4.5.0 llama-index"
   ]
  },
  {
   "cell_type": "code",
   "execution_count": 1,
   "metadata": {},
   "outputs": [
    {
     "name": "stdout",
     "output_type": "stream",
     "text": [
      "Collecting PyPDF2\n",
      "  Downloading pypdf2-3.0.1-py3-none-any.whl (232 kB)\n",
      "\u001b[2K     \u001b[90m━━━━━━━━━━━━━━━━━━━━━━━━━━━━━━━━━━━━━━━\u001b[0m \u001b[32m232.6/232.6 kB\u001b[0m \u001b[31m3.2 MB/s\u001b[0m eta \u001b[36m0:00:00\u001b[0ma \u001b[36m0:00:01\u001b[0m\n",
      "\u001b[?25hRequirement already satisfied: typing_extensions>=3.10.0.0 in /root/oneapi-devsummit-sea-2023/itex_xpu/lib/python3.9/site-packages (from PyPDF2) (4.5.0)\n",
      "Installing collected packages: PyPDF2\n",
      "Successfully installed PyPDF2-3.0.1\n"
     ]
    }
   ],
   "source": [
    "!pip install PyPDF2"
   ]
  },
  {
   "cell_type": "code",
   "execution_count": 1,
   "metadata": {
    "application/vnd.databricks.v1+cell": {
     "cellMetadata": {
      "byteLimit": 2048000,
      "rowLimit": 10000
     },
     "inputWidgets": {},
     "nuid": "236eec84-f020-4302-89ee-1758f6776831",
     "showTitle": false,
     "title": ""
    }
   },
   "outputs": [],
   "source": [
    "import logging\n",
    "import sys\n",
    "import torch\n",
    "from pprint import pprint\n",
    "from llama_index import VectorStoreIndex, SimpleDirectoryReader, ServiceContext\n",
    "from llama_index.llms import HuggingFaceLLM\n",
    "from langchain.embeddings.huggingface import HuggingFaceEmbeddings\n",
    "# from llama_index import LangchainEmbedding\n",
    "from llama_index.prompts.prompts import SimpleInputPrompt"
   ]
  },
  {
   "cell_type": "code",
   "execution_count": 3,
   "metadata": {
    "application/vnd.databricks.v1+cell": {
     "cellMetadata": {
      "byteLimit": 2048000,
      "rowLimit": 10000
     },
     "inputWidgets": {},
     "nuid": "286ff09b-dab8-4782-a2bb-c9cdfcc343c7",
     "showTitle": false,
     "title": ""
    }
   },
   "outputs": [],
   "source": [
    "# !git config --global credential.helper store\n",
    "# !huggingface-cli login"
   ]
  },
  {
   "cell_type": "code",
   "execution_count": 2,
   "metadata": {
    "application/vnd.databricks.v1+cell": {
     "cellMetadata": {
      "byteLimit": 2048000,
      "rowLimit": 10000
     },
     "inputWidgets": {},
     "nuid": "672d1267-168c-47c6-9095-ed996350cac7",
     "showTitle": false,
     "title": ""
    }
   },
   "outputs": [],
   "source": [
    "from pathlib import Path\n",
    "from llama_index import download_loader\n",
    "\n",
    "PDFReader = download_loader(\"PDFReader\")\n"
   ]
  },
  {
   "cell_type": "code",
   "execution_count": 3,
   "metadata": {
    "application/vnd.databricks.v1+cell": {
     "cellMetadata": {
      "byteLimit": 2048000,
      "rowLimit": 10000
     },
     "inputWidgets": {},
     "nuid": "3d116369-2774-4586-9e64-80083bba76b0",
     "showTitle": false,
     "title": ""
    }
   },
   "outputs": [],
   "source": [
    "#question creation prompts\n",
    "q_system_prompt = \"You are an expert user extracting questions from a text. You will be passed a piece of text, write a list of questions that can be answered based *solely* on the given text.\"\n",
    "query_wrapper_prompt = \"<|USER|>{query_str}<|ASSISTANT|>\"\n",
    "\n",
    "#answer prompt\n",
    "a_system_prompt = \"You are a data extractor. Extract the exact data from given document. If no information found please reply 'no information available'\""
   ]
  },
  {
   "cell_type": "code",
   "execution_count": 4,
   "metadata": {
    "application/vnd.databricks.v1+cell": {
     "cellMetadata": {
      "byteLimit": 2048000,
      "rowLimit": 10000
     },
     "inputWidgets": {},
     "nuid": "f55218f6-8a79-4d59-aed1-666853a985e4",
     "showTitle": false,
     "title": ""
    }
   },
   "outputs": [],
   "source": [
    "# hyperparameters\n",
    "context_window = 4096 #@param\n",
    "temperature = 0.0 #@param\n",
    "model_name = 'meta-llama/Llama-2-7b-chat-hf' #@param\n",
    "my_model_name = 'litelo/llama-2-case-whisper'"
   ]
  },
  {
   "cell_type": "code",
   "execution_count": 5,
   "metadata": {
    "application/vnd.databricks.v1+cell": {
     "cellMetadata": {
      "byteLimit": 2048000,
      "rowLimit": 10000
     },
     "inputWidgets": {},
     "nuid": "6d9f8b82-ed21-4045-bc5a-762b7e71c40f",
     "showTitle": false,
     "title": ""
    }
   },
   "outputs": [
    {
     "name": "stderr",
     "output_type": "stream",
     "text": [
      "/root/oneapi-devsummit-sea-2023/itex_xpu/lib/python3.9/site-packages/bitsandbytes/cextension.py:34: UserWarning: The installed version of bitsandbytes was compiled without GPU support. 8-bit optimizers, 8-bit multiplication, and GPU quantization are unavailable.\n",
      "  warn(\"The installed version of bitsandbytes was compiled without GPU support. \"\n"
     ]
    },
    {
     "name": "stdout",
     "output_type": "stream",
     "text": [
      "/root/oneapi-devsummit-sea-2023/itex_xpu/lib/python3.9/site-packages/bitsandbytes/libbitsandbytes_cpu.so: undefined symbol: cadam32bit_grad_fp32\n"
     ]
    },
    {
     "name": "stderr",
     "output_type": "stream",
     "text": [
      "2023-12-15 18:59:21.575731: I tensorflow/core/util/port.cc:110] oneDNN custom operations are on. You may see slightly different numerical results due to floating-point round-off errors from different computation orders. To turn them off, set the environment variable `TF_ENABLE_ONEDNN_OPTS=0`.\n"
     ]
    },
    {
     "data": {
      "application/vnd.jupyter.widget-view+json": {
       "model_id": "83fbe8db79a3474182ce05bd484bda43",
       "version_major": 2,
       "version_minor": 0
      },
      "text/plain": [
       "Loading checkpoint shards:   0%|          | 0/2 [00:00<?, ?it/s]"
      ]
     },
     "metadata": {},
     "output_type": "display_data"
    }
   ],
   "source": [
    "from transformers import LlamaTokenizer, LlamaForCausalLM\n",
    "tokenizer = LlamaTokenizer.from_pretrained(model_name)\n",
    "model_llm = LlamaForCausalLM.from_pretrained(\n",
    "        my_model_name,\n",
    "        device_map='auto'\n",
    "    )"
   ]
  },
  {
   "cell_type": "code",
   "execution_count": 6,
   "metadata": {
    "application/vnd.databricks.v1+cell": {
     "cellMetadata": {
      "byteLimit": 2048000,
      "rowLimit": 10000
     },
     "inputWidgets": {},
     "nuid": "cc3d8ca9-6143-487c-9363-1e40f82fe623",
     "showTitle": false,
     "title": ""
    }
   },
   "outputs": [],
   "source": [
    "\n",
    "def getLLMforPrompts(system_prompt, query_wrapper_prompt) :\n",
    "    return HuggingFaceLLM(\n",
    "        context_window=context_window,\n",
    "        max_new_tokens=256,\n",
    "        generate_kwargs={\"temperature\":temperature,\"top_p\":0.5, \"do_sample\": False},\n",
    "        system_prompt= system_prompt,\n",
    "        query_wrapper_prompt = query_wrapper_prompt,\n",
    "        tokenizer=tokenizer,\n",
    "        model=model_llm,\n",
    "        device_map='auto',\n",
    "        model_kwargs={\"temperature\":0.1, \"top_p\":0.5,\"use_auth_token\": True}\n",
    "    )"
   ]
  },
  {
   "cell_type": "code",
   "execution_count": 7,
   "metadata": {
    "application/vnd.databricks.v1+cell": {
     "cellMetadata": {
      "byteLimit": 2048000,
      "rowLimit": 10000
     },
     "inputWidgets": {},
     "nuid": "fff447ee-5e1b-4898-9780-36b54a03dcf3",
     "showTitle": false,
     "title": ""
    }
   },
   "outputs": [
    {
     "name": "stderr",
     "output_type": "stream",
     "text": [
      "2023-12-15 18:59:43,886 - sentence_transformers.SentenceTransformer - INFO - Load pretrained SentenceTransformer: sentence-transformers/all-mpnet-base-v2\n",
      "2023-12-15 18:59:44,690 - sentence_transformers.SentenceTransformer - INFO - Use pytorch device: cpu\n"
     ]
    }
   ],
   "source": [
    "embed_model = HuggingFaceEmbeddings(model_name=\"sentence-transformers/all-mpnet-base-v2\")\n"
   ]
  },
  {
   "cell_type": "code",
   "execution_count": 8,
   "metadata": {
    "application/vnd.databricks.v1+cell": {
     "cellMetadata": {
      "byteLimit": 2048000,
      "rowLimit": 10000
     },
     "inputWidgets": {},
     "nuid": "c8bde8a5-76d4-41c7-b7b1-87d80818d14d",
     "showTitle": false,
     "title": ""
    }
   },
   "outputs": [],
   "source": [
    "\n",
    "def getAllQuestions(response_text):\n",
    "    j=0\n",
    "    lines = response_text.split(\"\\n\")\n",
    "    list_questions = []\n",
    "    for i in range(0, len(lines)):\n",
    "        if \"?\" in lines[i] and not lines[i][0].isalpha():\n",
    "            for j in range(0, len(lines[i])):\n",
    "                if lines[i][j].isalpha():\n",
    "                    break\n",
    "            list_questions.append(lines[i][j:].replace(\"  \",\" \").strip())\n",
    "    if len(list_questions) == 0:\n",
    "        for i in range(0, len(lines)):\n",
    "            if \"?\" in lines[i]:\n",
    "                list_questions.append(lines[i][j:].replace(\"  \",\" \").strip())\n",
    "    list_questions = list(set(list_questions))\n",
    "    return list_questions\n"
   ]
  },
  {
   "cell_type": "code",
   "execution_count": 9,
   "metadata": {
    "application/vnd.databricks.v1+cell": {
     "cellMetadata": {
      "byteLimit": 2048000,
      "rowLimit": 10000
     },
     "inputWidgets": {},
     "nuid": "edaad115-9012-4e66-a791-26c9739c44bd",
     "showTitle": false,
     "title": ""
    }
   },
   "outputs": [],
   "source": [
    "def getQueryEngine(a_llm, docs):\n",
    "    service_context = ServiceContext.from_defaults(\n",
    "        chunk_size=1024,\n",
    "        llm=a_llm,\n",
    "        embed_model=embed_model\n",
    "    )\n",
    "    index = VectorStoreIndex.from_documents(docs, service_context=service_context)\n",
    "    return index.as_query_engine()"
   ]
  },
  {
   "cell_type": "code",
   "execution_count": 10,
   "metadata": {
    "application/vnd.databricks.v1+cell": {
     "cellMetadata": {
      "byteLimit": 2048000,
      "rowLimit": 10000
     },
     "inputWidgets": {},
     "nuid": "9a3bb103-54dc-44a1-9c2f-4fcb04928a0f",
     "showTitle": false,
     "title": ""
    }
   },
   "outputs": [],
   "source": [
    "def create_qa_set(text, docs):\n",
    "    # print('performing qa for: '+text)\n",
    "    # print('docs text: '+str(docs))\n",
    "    qa_pairs = []\n",
    "    q_llm = getLLMforPrompts(q_system_prompt, query_wrapper_prompt)\n",
    "    result_llm = q_llm.complete(text).text\n",
    "    # print(result_llm)\n",
    "    list_questions = getAllQuestions(result_llm)\n",
    "    print(\" Questions generated for this part - \"+str(len(list_questions)))\n",
    "    # print(\"questions: \"+str(list_questions))\n",
    "    q_engine = getQueryEngine(getLLMforPrompts(a_system_prompt, query_wrapper_prompt), docs)\n",
    "    j=1\n",
    "    for ques in list_questions :\n",
    "        ans = q_engine.query(ques)\n",
    "        qa_pairs.append([ques, ans.response.strip()])\n",
    "        print(\"  Done with question no. - \"+str(j))\n",
    "        j=j+1\n",
    "    print(\" Q and A pairs for this part - \"+str(len(qa_pairs)))\n",
    "    return qa_pairs"
   ]
  },
  {
   "cell_type": "code",
   "execution_count": 11,
   "metadata": {
    "application/vnd.databricks.v1+cell": {
     "cellMetadata": {
      "byteLimit": 2048000,
      "rowLimit": 10000
     },
     "inputWidgets": {},
     "nuid": "cfde14fd-06d9-4eb7-86cb-d074098f118b",
     "showTitle": false,
     "title": ""
    }
   },
   "outputs": [],
   "source": [
    "import modin.pandas as pd\n",
    "#this method takes two pages at a time in a sliding window fashion and generates questions and answers for them\n",
    "def create_qa_set_for_documents(documents_list):\n",
    "    all_pairs = []\n",
    "    for i in range(0, len(documents_list)-1):\n",
    "        print(\"Document pair no. - \"+str(i))\n",
    "        text = documents_list[i].text\n",
    "        if i < len(documents_list)-1 :\n",
    "            text = text + documents_list[i+1].text\n",
    "        documents_pair = [documents_list[i].copy()]\n",
    "        documents_pair[0].text = text\n",
    "        all_pairs.extend(create_qa_set(text, documents_pair))\n",
    "        print(\"Total Pairs so far: \"+str(len(all_pairs)))\n",
    "    return all_pairs"
   ]
  },
  {
   "cell_type": "code",
   "execution_count": 12,
   "metadata": {
    "application/vnd.databricks.v1+cell": {
     "cellMetadata": {
      "byteLimit": 2048000,
      "rowLimit": 10000
     },
     "inputWidgets": {},
     "nuid": "1e991001-9b3e-4d22-9ea4-889a1a06d917",
     "showTitle": false,
     "title": ""
    }
   },
   "outputs": [
    {
     "data": {
      "text/plain": [
       "['83561-1992___jonew__judis__19509.pdf',\n",
       " '8352-2016___jonew__judis__43552.pdf',\n",
       " '8352-2008___jonew__judis__44860.pdf',\n",
       " '8353-1998___jonew__judis__26113.pdf',\n",
       " '83593-1992___jonew__judis__11145.pdf',\n",
       " '83558-1992___jonew__judis__11341.pdf',\n",
       " '83570-1992___jonew__judis__11231.pdf',\n",
       " '8353-1997___jonew__judis__19100.pdf',\n",
       " '8354-2006___jonew__judis__31471.pdf',\n",
       " '9985-2001___jonew__judis__18016.pdf',\n",
       " '8358-1997___jonew__judis__20264.pdf',\n",
       " '9999-2017___supremecourt__2017__9999__9999_2017_31_1504_27750_Judgement_20-Apr-2021.pdf',\n",
       " '8356-2015___supremecourt__2015__8356__8356_2015_Judgement_12-Oct-2017.pdf',\n",
       " '8359-2004___jonew__judis__26717.pdf',\n",
       " '8352-2000___jonew__judis__33988.pdf',\n",
       " '83548-1992___jonew__judis__11391.pdf',\n",
       " '9923-2017___supremecourt__2017__9923__9923_2017_Judgement_23-Feb-2018.pdf',\n",
       " '83550-1992___jonew__judis__11378.pdf',\n",
       " '83552-1992___jonew__judis__11366.pdf',\n",
       " '9985-2001___jonew__judis__18029.pdf',\n",
       " '8355-2005___jonew__judis__34093.pdf']"
      ]
     },
     "execution_count": 12,
     "metadata": {},
     "output_type": "execute_result"
    }
   ],
   "source": [
    "import os\n",
    "from PyPDF2 import PdfMerger\n",
    "x = [a for a in os.listdir('../supreme-court-data/data/data/') if a.endswith(\".pdf\")]\n",
    "x"
   ]
  },
  {
   "cell_type": "code",
   "execution_count": 13,
   "metadata": {},
   "outputs": [],
   "source": [
    "# import numpy as np\n",
    "# x = np.random.choice(x, size=50, replace=False)"
   ]
  },
  {
   "cell_type": "code",
   "execution_count": null,
   "metadata": {},
   "outputs": [
    {
     "name": "stderr",
     "output_type": "stream",
     "text": [
      "2023-12-15 18:59:59,561 - pypdf._reader - WARNING - invalid pdf header: b'\\x0bF\\x00\\x00%'\n",
      "2023-12-15 18:59:59,569 - pypdf._reader - WARNING - incorrect startxref pointer(1)\n",
      "/root/oneapi-devsummit-sea-2023/itex_xpu/lib/python3.9/site-packages/transformers/generation/utils.py:1270: UserWarning: You have modified the pretrained model configuration to control generation. This is a deprecated strategy to control generation and will be removed soon, in a future version. Please use a generation configuration file (see https://huggingface.co/docs/transformers/main_classes/text_generation )\n",
      "  warnings.warn(\n"
     ]
    },
    {
     "name": "stdout",
     "output_type": "stream",
     "text": [
      "Document pair no. - 0\n",
      " Questions generated for this part - 0\n"
     ]
    },
    {
     "data": {
      "application/vnd.jupyter.widget-view+json": {
       "model_id": "f54181173bb34a2ba1a7e9f4438c02ad",
       "version_major": 2,
       "version_minor": 0
      },
      "text/plain": [
       "Batches:   0%|          | 0/1 [00:00<?, ?it/s]"
      ]
     },
     "metadata": {},
     "output_type": "display_data"
    },
    {
     "name": "stdout",
     "output_type": "stream",
     "text": [
      " Q and A pairs for this part - 0\n",
      "Total Pairs so far: 0\n",
      "Document pair no. - 1\n",
      " Questions generated for this part - 3\n"
     ]
    },
    {
     "data": {
      "application/vnd.jupyter.widget-view+json": {
       "model_id": "a3664074634348daabc4489d90b6618c",
       "version_major": 2,
       "version_minor": 0
      },
      "text/plain": [
       "Batches:   0%|          | 0/1 [00:00<?, ?it/s]"
      ]
     },
     "metadata": {},
     "output_type": "display_data"
    },
    {
     "data": {
      "application/vnd.jupyter.widget-view+json": {
       "model_id": "6199557f6a6b4e89bf3aee39bb2684b2",
       "version_major": 2,
       "version_minor": 0
      },
      "text/plain": [
       "Batches:   0%|          | 0/1 [00:00<?, ?it/s]"
      ]
     },
     "metadata": {},
     "output_type": "display_data"
    },
    {
     "name": "stdout",
     "output_type": "stream",
     "text": [
      "  Done with question no. - 1\n"
     ]
    },
    {
     "data": {
      "application/vnd.jupyter.widget-view+json": {
       "model_id": "a6a26cf0817148ecacacdc57f3ae0eaf",
       "version_major": 2,
       "version_minor": 0
      },
      "text/plain": [
       "Batches:   0%|          | 0/1 [00:00<?, ?it/s]"
      ]
     },
     "metadata": {},
     "output_type": "display_data"
    },
    {
     "name": "stdout",
     "output_type": "stream",
     "text": [
      "  Done with question no. - 2\n"
     ]
    },
    {
     "data": {
      "application/vnd.jupyter.widget-view+json": {
       "model_id": "a7283338502343deb47437ecc0adddc2",
       "version_major": 2,
       "version_minor": 0
      },
      "text/plain": [
       "Batches:   0%|          | 0/1 [00:00<?, ?it/s]"
      ]
     },
     "metadata": {},
     "output_type": "display_data"
    },
    {
     "name": "stdout",
     "output_type": "stream",
     "text": [
      "  Done with question no. - 3\n",
      " Q and A pairs for this part - 3\n",
      "Total Pairs so far: 3\n",
      "Document pair no. - 2\n"
     ]
    }
   ],
   "source": [
    "loader = PDFReader()\n",
    "data = []\n",
    "for pdf in x:\n",
    "    try:\n",
    "        documents = loader.load_data(file=Path('../supreme-court-data/data/data/'+pdf))\n",
    "    except:\n",
    "        print(\"error\")\n",
    "    data.extend(create_qa_set_for_documents(documents))"
   ]
  },
  {
   "cell_type": "code",
   "execution_count": null,
   "metadata": {},
   "outputs": [],
   "source": [
    "# print(data)\n",
    "len(data)"
   ]
  },
  {
   "cell_type": "code",
   "execution_count": null,
   "metadata": {},
   "outputs": [],
   "source": [
    "df = pd.DataFrame(data, columns = ['Question', 'Answer'])"
   ]
  },
  {
   "cell_type": "code",
   "execution_count": null,
   "metadata": {},
   "outputs": [],
   "source": [
    "# df = pd.concat([df, df2], ignore_index=True)\n",
    "df"
   ]
  },
  {
   "cell_type": "code",
   "execution_count": null,
   "metadata": {
    "application/vnd.databricks.v1+cell": {
     "cellMetadata": {
      "byteLimit": 2048000,
      "rowLimit": 10000
     },
     "inputWidgets": {},
     "nuid": "084db616-4316-4a23-a6c7-8e6e30199d53",
     "showTitle": false,
     "title": ""
    }
   },
   "outputs": [],
   "source": [
    "df.to_csv('final_data.csv', index=False, encoding='utf-8')"
   ]
  },
  {
   "cell_type": "code",
   "execution_count": null,
   "metadata": {
    "application/vnd.databricks.v1+cell": {
     "cellMetadata": {
      "byteLimit": 2048000,
      "rowLimit": 10000
     },
     "inputWidgets": {},
     "nuid": "66e5efd7-fa78-4ad1-b0e8-73625d8ad7ad",
     "showTitle": false,
     "title": ""
    }
   },
   "outputs": [],
   "source": [
    "# user_queries = ['Seller address in the document?' , 'Client address in the document?', 'seller Tax Id in the document?' ] #@param\n",
    "\n",
    "# answer = dict()\n",
    "# for i, user_query in enumerate(user_queries):\n",
    "#     query_engine = index.as_query_engine()\n",
    "#     response = query_engine.query(user_query)\n",
    "#     print(response.response)"
   ]
  },
  {
   "cell_type": "code",
   "execution_count": null,
   "metadata": {
    "application/vnd.databricks.v1+cell": {
     "cellMetadata": {},
     "inputWidgets": {},
     "nuid": "6676b79c-cacf-4e0b-b513-93a3583dbbde",
     "showTitle": false,
     "title": ""
    }
   },
   "outputs": [],
   "source": []
  }
 ],
 "metadata": {
  "application/vnd.databricks.v1+notebook": {
   "dashboards": [],
   "language": "python",
   "notebookMetadata": {
    "pythonIndentUnit": 4
   },
   "notebookName": "llama-create-dataset-finetune",
   "widgets": {}
  },
  "kernelspec": {
   "display_name": "Python 3 (ipykernel)",
   "language": "python",
   "name": "python3"
  },
  "language_info": {
   "codemirror_mode": {
    "name": "ipython",
    "version": 3
   },
   "file_extension": ".py",
   "mimetype": "text/x-python",
   "name": "python",
   "nbconvert_exporter": "python",
   "pygments_lexer": "ipython3",
   "version": "3.9.18"
  }
 },
 "nbformat": 4,
 "nbformat_minor": 4
}
