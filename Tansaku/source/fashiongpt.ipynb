{
 "cells": [
  {
   "cell_type": "code",
   "execution_count": 1,
   "metadata": {},
   "outputs": [],
   "source": [
    "import cohere\n",
    "from dotenv import load_dotenv\n",
    "import os\n",
    "load_dotenv()\n",
    "\n",
    "COHERE_API_KEY = os.getenv('COHERE_API_KEY')\n",
    "co = cohere.Client(COHERE_API_KEY)"
   ]
  },
  {
   "cell_type": "code",
   "execution_count": 9,
   "metadata": {},
   "outputs": [],
   "source": [
    "# message = \"Context - Consider yourself a fashion expert. Task - Suggest me beach looks.\"\n",
    "# message = \"Context - Consider yourself a fashion expert. Task - Recommend prom night attire\"\n",
    "message = \"Context - Consider yourself a fashion expert. I'm a 25 year old girl, dark complexion and average build.\\\n",
    "             I wish to get ready for my sister's wedding. \\\n",
    "            Task - Suggest me what would look best on me.\""
   ]
  },
  {
   "cell_type": "code",
   "execution_count": 10,
   "metadata": {},
   "outputs": [],
   "source": [
    "response = co.chat(\n",
    "\tmessage, \n",
    "\tmodel=\"command\", \n",
    "\ttemperature=0.9\n",
    ")\n",
    "\n",
    "answer = response.text"
   ]
  },
  {
   "cell_type": "code",
   "execution_count": 4,
   "metadata": {},
   "outputs": [
    {
     "data": {
      "text/plain": [
       "\"When creating a beach look, it is essential to consider the various elements that will help you create a stylish and comfortable outfit. Here are some tips to get you started:\\n\\n- Start with a great pair of sunglasses: A classic pair of sunglasses can help protect your eyes from the sun and add a touch of style to your look. Choose a pair that complements your face shape and personal style.\\n- Choose lightweight and breathable fabrics: Lightweight and breathable fabrics are ideal for the beach, as they will help keep you cool and comfortable in the sun. Consider materials like cotton, linen, and rayon.\\n- Add a pop of color: A pop of color can help brighten up your look and make it more fun and playful. Choose a bright hue like red, blue, or yellow, or go for a bold print.\\n- Don't forget the accessories: Accessories can help complete your look and add a touch of personality. Consider adding a hat, a bracelet, or a necklace.\\n- Be sure to pack a beach bag: A beach bag is essential for carrying all of your essentials, like sunscreen, a towel, and a change of clothes. Choose a bag that is large enough to fit all of your essentials and that is easy to carry.\\n\\nWith these tips in mind, you'll be able to create a stylish and comfortable beach look that will help you enjoy your time in the sun.\""
      ]
     },
     "execution_count": 4,
     "metadata": {},
     "output_type": "execute_result"
    }
   ],
   "source": [
    "answer"
   ]
  },
  {
   "cell_type": "markdown",
   "metadata": {},
   "source": [
    "### prompt - beach look\n",
    "\"When creating a beach look, it is essential to consider the various elements that will help you create a stylish and comfortable outfit. Here are some tips to get you started:\n",
    "\n",
    "- Start with a great pair of sunglasses: A classic pair of sunglasses can help protect your eyes from the sun and add a touch of style to your look. Choose a pair that complements your face shape and personal style.\n",
    "\n",
    "- Choose lightweight and breathable fabrics: Lightweight and breathable fabrics are ideal for the beach, as they will help keep you cool and comfortable in the sun. Consider materials like cotton, linen, and rayon.\n",
    "\n",
    "- Add a pop of color: A pop of color can help brighten up your look and make it more fun and playful. Choose a bright hue like red, blue, or yellow, or go for a bold print.\n",
    "\n",
    "- Don't forget the accessories: Accessories can help complete your look and add a touch of personality. Consider adding a hat, a bracelet, or a necklace.\n",
    "\n",
    "- Be sure to pack a beach bag: A beach bag is essential for carrying all of your essentials, like sunscreen, a towel, and a change of clothes. Choose a bag that is large enough to fit all of your essentials and that is easy to carry.\n",
    "\n",
    "With these tips in mind, you'll be able to create a stylish and comfortable beach look that will help you enjoy your time in the sun.\""
   ]
  },
  {
   "cell_type": "code",
   "execution_count": 8,
   "metadata": {},
   "outputs": [
    {
     "data": {
      "text/plain": [
       "'Some recommended attire for prom night include:\\n\\n- A dress or suit in a solid color, such as black, navy, or grey.\\n- A dress or suit with a simple pattern, such as a floral or geometric print.\\n- A dress or suit in a bright color, such as red, pink, or yellow.\\n- A dress or suit with a sequin or metallic fabric.\\n- A dress or suit with a dramatic train or veil.\\n\\nIf you have any specific styles or colors in mind, feel free to let me know and I can give you more personalized recommendations!'"
      ]
     },
     "execution_count": 8,
     "metadata": {},
     "output_type": "execute_result"
    }
   ],
   "source": [
    "answer"
   ]
  },
  {
   "cell_type": "markdown",
   "metadata": {},
   "source": [
    "### prompt - prom night attire\n",
    "'Some recommended attire for prom night include:\n",
    "\n",
    "- A dress or suit in a solid color, such as black, navy, or grey.\n",
    "\n",
    "- A dress or suit with a simple pattern, such as a floral or geometric print.\n",
    "\n",
    "- A dress or suit in a bright color, such as red, pink, or yellow.\n",
    "\n",
    "- A dress or suit with a sequin or metallic fabric.\n",
    "\n",
    "- A dress or suit with a dramatic train or veil.\n",
    "\n",
    "If you have any specific styles or colors in mind, feel free to let me know and I can give you more personalized recommendations!'"
   ]
  },
  {
   "cell_type": "code",
   "execution_count": 11,
   "metadata": {},
   "outputs": [
    {
     "data": {
      "text/plain": [
       "\"Choosing the right outfit for your sister's wedding that suits your style and body type is important. Here are some suggestions for outfits that would look great on you:\\n\\n- A cocktail dress in a fitted style with a bold print or a bright color. This style of dress is elegant and sophisticated, and would be perfect for a wedding.\\n- A floral dress with a flared skirt and a fitted bodice. This style of dress is flattering on many body types and the floral print adds a touch of femininity and elegance.\\n- A lace dress with a scalloped hemline. The lace adds a touch of sophistication and the scalloped hemline adds a touch of whimsy and fun.\\n- A jumpsuit with a wide-leg silhouette and a fitted bodice. This style of jumpsuit is flattering on many body types and the wide-leg silhouette adds a touch of elegance and sophistication.\\n\\nThese are just a few suggestions for outfits that would look great on you for your sister's wedding. Ultimately, the best outfit is one that makes you feel confident and comfortable.\""
      ]
     },
     "execution_count": 11,
     "metadata": {},
     "output_type": "execute_result"
    }
   ],
   "source": [
    "answer"
   ]
  },
  {
   "cell_type": "markdown",
   "metadata": {},
   "source": [
    "### prompt - I'm a 25 year old girl, dark complexion and average build. I wish to get ready for my sister's wedding. what would look best on me.\n",
    "\n",
    "\"Choosing the right outfit for your sister's wedding that suits your style and body type is important. Here are some suggestions for outfits that would look great on you:\n",
    "\n",
    "- A cocktail dress in a fitted style with a bold print or a bright color. This style of dress is elegant and sophisticated, and would be perfect for a wedding.\n",
    "\n",
    "- A floral dress with a flared skirt and a fitted bodice. This style of dress is flattering on many body types and the floral print adds a touch of femininity and elegance.\n",
    "\n",
    "- A lace dress with a scalloped hemline. The lace adds a touch of sophistication and the scalloped hemline adds a touch of whimsy and fun.\n",
    "\n",
    "- A jumpsuit with a wide-leg silhouette and a fitted bodice. This style of jumpsuit is flattering on many body types and the wide-leg silhouette adds a touch of elegance and sophistication.\n",
    "\n",
    "These are just a few suggestions for outfits that would look great on you for your sister's wedding. Ultimately, the best outfit is one that makes you feel confident and comfortable.\""
   ]
  },
  {
   "cell_type": "code",
   "execution_count": 12,
   "metadata": {},
   "outputs": [
    {
     "name": "stdout",
     "output_type": "stream",
     "text": [
      "Send your query: \n",
      "Wedding attire can be complicated, here are a few tips to help you decide what to wear:\n",
      "\n",
      "- The wedding invitation should include instructions on the dress code, if there are no instructions then it's best to assume that the wedding will have a smart casual dress code, and dress accordingly.\n",
      "- If it’s a black-tie event, then men should wear tuxedos or suits, and women should wear formal evening gowns.\n",
      "- If it’s a semi-formal event, then men should wear a suit and tie, and women should wear a dress or pantsuit.\n",
      "- If it’s a casual event, then men can wear a dress shirt and pants, and women can wear a dress or skirt and blouse.\n",
      "\n",
      "As a fashion expert, I would recommend that you wear something that makes you feel comfortable and confident, while also being appropriate for the occasion. It's also a good idea to check the weather forecast to ensure that you're not too hot or too cold in your outfit.\n",
      "Send your query: \n",
      "The sangeet is a pre-wedding event that takes place the day before the wedding. It is typically a more casual event than the wedding itself, and guests are encouraged to wear bright and colorful clothing.\n",
      "\n",
      "As a fashion expert, I would recommend that you wear something that is comfortable and breathable, as you will likely be dancing and moving around a lot. colorful Indian outfits are appropriate for the sangeet, and guests are encouraged to wear clothing that is vibrant and fun. \n",
      "\n",
      "Ultimately, it’s up to you to decide what you feel comfortable wearing to the sangeet, and it's best to choose an outfit that makes you feel confident and excited to celebrate the couple.\n",
      "Send your query: \n",
      "As a fashion expert, I would recommend that you wear something that is elegant and timeless, while also being comfortable and appropriate for the occasion. \n",
      "\n",
      "A dress or a suit in a neutral color like black, navy, or grey is always a good choice for a reception. These colors are classic and elegant, and they will help you stand out in a crowd. Adding a pop of color with a statement accessory like a necklace or a scarf can also help to elevate your look.\n",
      "\n",
      "If you're looking for something a little more daring, you could try a jumpsuit or a pantsuit. These items are stylish and modern, and they can help you make a statement at the reception. Just make sure that you choose a style that is comfortable and appropriate for the occasion, as you will likely be spending a lot of time in this outfit.\n",
      "Send your query: \n",
      "As a fashion expert, I would recommend that you wear something that is stylish and comfortable, while also being appropriate for the occasion. \n",
      "\n",
      "A cocktail dress or a suit is always a good choice for a cocktail party. These items are sleek and sophisticated, and they will help you stand out in a crowd. Choose a style that is comfortable and appropriate for the occasion, as you will likely be spending a lot of time in this outfit.\n",
      "\n",
      "If you're looking for something a little more casual, you could try a dress or a skirt and blouse. Add a pop of color with a statement accessory like a necklace or a scarf can also help to elevate your look. A dark pair of pants with a dressy top would also work for a cocktail party. Just make sure that you choose an outfit that is comfortable and makes you feel confident.\n"
     ]
    }
   ],
   "source": [
    "chat_history = []\n",
    "max_turns = 4\n",
    "\n",
    "for i in range(max_turns):\n",
    "\t# get user input\n",
    "\tprint(\"\\n Send your query: \")\n",
    "\tmessage = \"Context - Consider yourself a fashion expert. Task - Recommend \" + input()\n",
    "\t\n",
    "\t# generate a response with the current chat history\n",
    "\tresponse = co.chat(\n",
    "\t\tmessage,\n",
    "\t\ttemperature=0.8,\n",
    "\t\tchat_history=chat_history\n",
    "\t)\n",
    "\tanswer = response.text\n",
    "\t\n",
    "\tprint(\"Response for query : \", i+1)\n",
    "\tprint(answer)\n",
    "\n",
    "\t# add message and answer to the chat history\n",
    "\tuser_message = {\"user_name\": \"User\", \"text\": message}\n",
    "\tbot_message = {\"user_name\": \"Chatbot\", \"text\": answer}\n",
    "\t\n",
    "\tchat_history.append(user_message)\n",
    "\tchat_history.append(bot_message)"
   ]
  },
  {
   "cell_type": "code",
   "execution_count": 14,
   "metadata": {},
   "outputs": [
    {
     "data": {
      "text/plain": [
       "[{'user_name': 'User',\n",
       "  'text': \"Context - Consider yourself a fashion expert. Task - Recommend how should I get dressed for my best friend's wedding?\"},\n",
       " {'user_name': 'Chatbot',\n",
       "  'text': \"Wedding attire can be complicated, here are a few tips to help you decide what to wear:\\n\\n- The wedding invitation should include instructions on the dress code, if there are no instructions then it's best to assume that the wedding will have a smart casual dress code, and dress accordingly.\\n- If it’s a black-tie event, then men should wear tuxedos or suits, and women should wear formal evening gowns.\\n- If it’s a semi-formal event, then men should wear a suit and tie, and women should wear a dress or pantsuit.\\n- If it’s a casual event, then men can wear a dress shirt and pants, and women can wear a dress or skirt and blouse.\\n\\nAs a fashion expert, I would recommend that you wear something that makes you feel comfortable and confident, while also being appropriate for the occasion. It's also a good idea to check the weather forecast to ensure that you're not too hot or too cold in your outfit.\"},\n",
       " {'user_name': 'User',\n",
       "  'text': 'Context - Consider yourself a fashion expert. Task - Recommend what should I prefer for sangeet'},\n",
       " {'user_name': 'Chatbot',\n",
       "  'text': \"The sangeet is a pre-wedding event that takes place the day before the wedding. It is typically a more casual event than the wedding itself, and guests are encouraged to wear bright and colorful clothing.\\n\\nAs a fashion expert, I would recommend that you wear something that is comfortable and breathable, as you will likely be dancing and moving around a lot. colorful Indian outfits are appropriate for the sangeet, and guests are encouraged to wear clothing that is vibrant and fun. \\n\\nUltimately, it’s up to you to decide what you feel comfortable wearing to the sangeet, and it's best to choose an outfit that makes you feel confident and excited to celebrate the couple.\"},\n",
       " {'user_name': 'User',\n",
       "  'text': \"Context - Consider yourself a fashion expert. Task - Recommend I'm thinking to wear something elegant for reception, what should it be?\"},\n",
       " {'user_name': 'Chatbot',\n",
       "  'text': \"As a fashion expert, I would recommend that you wear something that is elegant and timeless, while also being comfortable and appropriate for the occasion. \\n\\nA dress or a suit in a neutral color like black, navy, or grey is always a good choice for a reception. These colors are classic and elegant, and they will help you stand out in a crowd. Adding a pop of color with a statement accessory like a necklace or a scarf can also help to elevate your look.\\n\\nIf you're looking for something a little more daring, you could try a jumpsuit or a pantsuit. These items are stylish and modern, and they can help you make a statement at the reception. Just make sure that you choose a style that is comfortable and appropriate for the occasion, as you will likely be spending a lot of time in this outfit.\"},\n",
       " {'user_name': 'User',\n",
       "  'text': 'Context - Consider yourself a fashion expert. Task - Recommend what should I wear for cocktail party?'},\n",
       " {'user_name': 'Chatbot',\n",
       "  'text': \"As a fashion expert, I would recommend that you wear something that is stylish and comfortable, while also being appropriate for the occasion. \\n\\nA cocktail dress or a suit is always a good choice for a cocktail party. These items are sleek and sophisticated, and they will help you stand out in a crowd. Choose a style that is comfortable and appropriate for the occasion, as you will likely be spending a lot of time in this outfit.\\n\\nIf you're looking for something a little more casual, you could try a dress or a skirt and blouse. Add a pop of color with a statement accessory like a necklace or a scarf can also help to elevate your look. A dark pair of pants with a dressy top would also work for a cocktail party. Just make sure that you choose an outfit that is comfortable and makes you feel confident.\"}]"
      ]
     },
     "execution_count": 14,
     "metadata": {},
     "output_type": "execute_result"
    }
   ],
   "source": [
    "chat_history"
   ]
  },
  {
   "cell_type": "code",
   "execution_count": null,
   "metadata": {},
   "outputs": [],
   "source": []
  }
 ],
 "metadata": {
  "kernelspec": {
   "display_name": "venv",
   "language": "python",
   "name": "python3"
  },
  "language_info": {
   "codemirror_mode": {
    "name": "ipython",
    "version": 3
   },
   "file_extension": ".py",
   "mimetype": "text/x-python",
   "name": "python",
   "nbconvert_exporter": "python",
   "pygments_lexer": "ipython3",
   "version": "3.10.4"
  }
 },
 "nbformat": 4,
 "nbformat_minor": 2
}
